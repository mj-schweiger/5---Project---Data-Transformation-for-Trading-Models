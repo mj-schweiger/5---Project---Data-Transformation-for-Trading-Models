{
 "cells": [
  {
   "cell_type": "markdown",
   "id": "81942eb1",
   "metadata": {},
   "source": [
    "# Course 2 Project: ML Pipeline for Feature Engineering"
   ]
  },
  {
   "cell_type": "markdown",
   "id": "4f241775",
   "metadata": {},
   "source": [
    "## Instructions\n",
    "\n",
    "In this project, you'll use data related to microeconomic indicators and historical stock prices to explore the data engineering pipline. You'll get to practice:\n",
    "\n",
    "* Data ingestion \n",
    "* Data cleaning\n",
    "* Data imputation\n",
    "* Exploratory data analysis (EDA) through charts and graphs"
   ]
  },
  {
   "cell_type": "markdown",
   "id": "1f12b277",
   "metadata": {},
   "source": [
    "## Packages\n",
    "\n",
    "You'll use `pandas` and `matplotlib`, which were covered in the course material, to import, clean, and plot data. They have been installed in this workspace for you. If you're working locally and you installed Jupyter using Anaconda, these packages will already be installed. "
   ]
  },
  {
   "cell_type": "code",
   "execution_count": 1,
   "id": "882241d4",
   "metadata": {},
   "outputs": [],
   "source": [
    "import pandas as pd\n",
    "import matplotlib.pyplot as plt\n",
    "import seaborn as sns"
   ]
  },
  {
   "cell_type": "markdown",
   "id": "f9fcd352",
   "metadata": {},
   "source": [
    "## Load data\n",
    "\n",
    "The first step in a data engineering pipeline for machine learning is to ingest the data that will be used. For this project, data is hosted on a public GitHub repo. \n",
    "\n",
    "Your tasks:\n",
    "* Import data from the provided GitHub repo using `pandas`\n",
    "* Verify that the data has been imported correctly into `pandas` dataframes. Use methods like `head()` and `info()`\n",
    "* You may need to change column names to make them easier to work with\n",
    "* You may need to cast datetime data to the `datetime` format using `pandas` `to_datetime()` method\n",
    "\n",
    "Data files to import: \n",
    "1. GDP\n",
    "2. Inflation \n",
    "3. Apple stock prices \n",
    "4. Microsoft stock prices"
   ]
  },
  {
   "cell_type": "code",
   "execution_count": 8,
   "id": "8e7a2011",
   "metadata": {},
   "outputs": [],
   "source": [
    "data_path = \"https://raw.githubusercontent.com/udacity/CD13649-Project/refs/heads/main/Project/\"\n"
   ]
  },
  {
   "cell_type": "code",
   "execution_count": null,
   "id": "bd119016",
   "metadata": {},
   "outputs": [],
   "source": [
    "# Load historical GDP data\n",
    "path = data_path + \"GDP.csv\"\n",
    "gdp_data = pd.read_csv(path, index_col=\"DATE\", date_format=\"%Y-%m-%d\", parse_dates=True)\n",
    "\n",
    "path = data_path + \"inflation_monthly.csv\"\n",
    "inflation_data = pd.read_csv(path, index_col=\"DATE\", date_format=\"%Y-%m-%d\", parse_dates=True)\n",
    "\n",
    "path = data_path + \"consumer_price_index.csv\"\n",
    "consumer_price_data = pd.read_csv(path, index_col=\"DATE\", date_format=\"%Y-%m-%d\", parse_dates=True)"
   ]
  },
  {
   "cell_type": "code",
   "execution_count": 11,
   "id": "cf36d7c0",
   "metadata": {},
   "outputs": [
    {
     "data": {
      "application/vnd.microsoft.datawrangler.viewer.v0+json": {
       "columns": [
        {
         "name": "DATE",
         "rawType": "datetime64[ns]",
         "type": "datetime"
        },
        {
         "name": "GDP",
         "rawType": "float64",
         "type": "float"
        }
       ],
       "ref": "1248ed0c-4e76-4161-81d3-8e2ff8ed7452",
       "rows": [
        [
         "1947-01-01 00:00:00",
         "243.164"
        ],
        [
         "1947-04-01 00:00:00",
         "245.968"
        ],
        [
         "1947-07-01 00:00:00",
         "249.585"
        ],
        [
         "1947-10-01 00:00:00",
         "259.745"
        ],
        [
         "1948-01-01 00:00:00",
         "265.742"
        ]
       ],
       "shape": {
        "columns": 1,
        "rows": 5
       }
      },
      "text/html": [
       "<div>\n",
       "<style scoped>\n",
       "    .dataframe tbody tr th:only-of-type {\n",
       "        vertical-align: middle;\n",
       "    }\n",
       "\n",
       "    .dataframe tbody tr th {\n",
       "        vertical-align: top;\n",
       "    }\n",
       "\n",
       "    .dataframe thead th {\n",
       "        text-align: right;\n",
       "    }\n",
       "</style>\n",
       "<table border=\"1\" class=\"dataframe\">\n",
       "  <thead>\n",
       "    <tr style=\"text-align: right;\">\n",
       "      <th></th>\n",
       "      <th>GDP</th>\n",
       "    </tr>\n",
       "    <tr>\n",
       "      <th>DATE</th>\n",
       "      <th></th>\n",
       "    </tr>\n",
       "  </thead>\n",
       "  <tbody>\n",
       "    <tr>\n",
       "      <th>1947-01-01</th>\n",
       "      <td>243.164</td>\n",
       "    </tr>\n",
       "    <tr>\n",
       "      <th>1947-04-01</th>\n",
       "      <td>245.968</td>\n",
       "    </tr>\n",
       "    <tr>\n",
       "      <th>1947-07-01</th>\n",
       "      <td>249.585</td>\n",
       "    </tr>\n",
       "    <tr>\n",
       "      <th>1947-10-01</th>\n",
       "      <td>259.745</td>\n",
       "    </tr>\n",
       "    <tr>\n",
       "      <th>1948-01-01</th>\n",
       "      <td>265.742</td>\n",
       "    </tr>\n",
       "  </tbody>\n",
       "</table>\n",
       "</div>"
      ],
      "text/plain": [
       "                GDP\n",
       "DATE               \n",
       "1947-01-01  243.164\n",
       "1947-04-01  245.968\n",
       "1947-07-01  249.585\n",
       "1947-10-01  259.745\n",
       "1948-01-01  265.742"
      ]
     },
     "execution_count": 11,
     "metadata": {},
     "output_type": "execute_result"
    }
   ],
   "source": [
    "# Check the first few rows of data\n",
    "gdp_data.head()"
   ]
  },
  {
   "cell_type": "code",
   "execution_count": 12,
   "id": "b1c1c240",
   "metadata": {},
   "outputs": [
    {
     "data": {
      "application/vnd.microsoft.datawrangler.viewer.v0+json": {
       "columns": [
        {
         "name": "DATE",
         "rawType": "datetime64[ns]",
         "type": "datetime"
        },
        {
         "name": "CORESTICKM159SFRBATL",
         "rawType": "float64",
         "type": "float"
        }
       ],
       "ref": "934e66f7-fb26-4038-ac48-98386c5dfc48",
       "rows": [
        [
         "1968-01-01 00:00:00",
         "3.65186106"
        ],
        [
         "1968-02-01 00:00:00",
         "3.673819411"
        ],
        [
         "1968-03-01 00:00:00",
         "4.142163975"
        ],
        [
         "1968-04-01 00:00:00",
         "4.155828095"
        ],
        [
         "1968-05-01 00:00:00",
         "4.088245437"
        ]
       ],
       "shape": {
        "columns": 1,
        "rows": 5
       }
      },
      "text/html": [
       "<div>\n",
       "<style scoped>\n",
       "    .dataframe tbody tr th:only-of-type {\n",
       "        vertical-align: middle;\n",
       "    }\n",
       "\n",
       "    .dataframe tbody tr th {\n",
       "        vertical-align: top;\n",
       "    }\n",
       "\n",
       "    .dataframe thead th {\n",
       "        text-align: right;\n",
       "    }\n",
       "</style>\n",
       "<table border=\"1\" class=\"dataframe\">\n",
       "  <thead>\n",
       "    <tr style=\"text-align: right;\">\n",
       "      <th></th>\n",
       "      <th>CORESTICKM159SFRBATL</th>\n",
       "    </tr>\n",
       "    <tr>\n",
       "      <th>DATE</th>\n",
       "      <th></th>\n",
       "    </tr>\n",
       "  </thead>\n",
       "  <tbody>\n",
       "    <tr>\n",
       "      <th>1968-01-01</th>\n",
       "      <td>3.651861</td>\n",
       "    </tr>\n",
       "    <tr>\n",
       "      <th>1968-02-01</th>\n",
       "      <td>3.673819</td>\n",
       "    </tr>\n",
       "    <tr>\n",
       "      <th>1968-03-01</th>\n",
       "      <td>4.142164</td>\n",
       "    </tr>\n",
       "    <tr>\n",
       "      <th>1968-04-01</th>\n",
       "      <td>4.155828</td>\n",
       "    </tr>\n",
       "    <tr>\n",
       "      <th>1968-05-01</th>\n",
       "      <td>4.088245</td>\n",
       "    </tr>\n",
       "  </tbody>\n",
       "</table>\n",
       "</div>"
      ],
      "text/plain": [
       "            CORESTICKM159SFRBATL\n",
       "DATE                            \n",
       "1968-01-01              3.651861\n",
       "1968-02-01              3.673819\n",
       "1968-03-01              4.142164\n",
       "1968-04-01              4.155828\n",
       "1968-05-01              4.088245"
      ]
     },
     "execution_count": 12,
     "metadata": {},
     "output_type": "execute_result"
    }
   ],
   "source": [
    "inflation_data.head()"
   ]
  },
  {
   "cell_type": "code",
   "execution_count": 13,
   "id": "11abb449",
   "metadata": {},
   "outputs": [
    {
     "data": {
      "application/vnd.microsoft.datawrangler.viewer.v0+json": {
       "columns": [
        {
         "name": "DATE",
         "rawType": "datetime64[ns]",
         "type": "datetime"
        },
        {
         "name": "CORESTICKM159SFRBATL",
         "rawType": "float64",
         "type": "float"
        }
       ],
       "ref": "5d2865f6-4910-4e55-af8b-29047404722a",
       "rows": [
        [
         "1968-01-01 00:00:00",
         "3.65186106"
        ],
        [
         "1968-02-01 00:00:00",
         "3.673819411"
        ],
        [
         "1968-03-01 00:00:00",
         "4.142163975"
        ],
        [
         "1968-04-01 00:00:00",
         "4.155828095"
        ],
        [
         "1968-05-01 00:00:00",
         "4.088245437"
        ]
       ],
       "shape": {
        "columns": 1,
        "rows": 5
       }
      },
      "text/html": [
       "<div>\n",
       "<style scoped>\n",
       "    .dataframe tbody tr th:only-of-type {\n",
       "        vertical-align: middle;\n",
       "    }\n",
       "\n",
       "    .dataframe tbody tr th {\n",
       "        vertical-align: top;\n",
       "    }\n",
       "\n",
       "    .dataframe thead th {\n",
       "        text-align: right;\n",
       "    }\n",
       "</style>\n",
       "<table border=\"1\" class=\"dataframe\">\n",
       "  <thead>\n",
       "    <tr style=\"text-align: right;\">\n",
       "      <th></th>\n",
       "      <th>CORESTICKM159SFRBATL</th>\n",
       "    </tr>\n",
       "    <tr>\n",
       "      <th>DATE</th>\n",
       "      <th></th>\n",
       "    </tr>\n",
       "  </thead>\n",
       "  <tbody>\n",
       "    <tr>\n",
       "      <th>1968-01-01</th>\n",
       "      <td>3.651861</td>\n",
       "    </tr>\n",
       "    <tr>\n",
       "      <th>1968-02-01</th>\n",
       "      <td>3.673819</td>\n",
       "    </tr>\n",
       "    <tr>\n",
       "      <th>1968-03-01</th>\n",
       "      <td>4.142164</td>\n",
       "    </tr>\n",
       "    <tr>\n",
       "      <th>1968-04-01</th>\n",
       "      <td>4.155828</td>\n",
       "    </tr>\n",
       "    <tr>\n",
       "      <th>1968-05-01</th>\n",
       "      <td>4.088245</td>\n",
       "    </tr>\n",
       "  </tbody>\n",
       "</table>\n",
       "</div>"
      ],
      "text/plain": [
       "            CORESTICKM159SFRBATL\n",
       "DATE                            \n",
       "1968-01-01              3.651861\n",
       "1968-02-01              3.673819\n",
       "1968-03-01              4.142164\n",
       "1968-04-01              4.155828\n",
       "1968-05-01              4.088245"
      ]
     },
     "execution_count": 13,
     "metadata": {},
     "output_type": "execute_result"
    }
   ],
   "source": [
    "consumer_price_data.head()"
   ]
  },
  {
   "cell_type": "code",
   "execution_count": null,
   "id": "2a2478c9",
   "metadata": {},
   "outputs": [],
   "source": [
    "# Load the historical stock price data for Apple and Microsoft\n",
    "path = data_path + \"apple_historical_data.csv\"\n",
    "apple_prices = pd.read_csv(path, index_col=\"Date\", date_format=\"%m/%d/%Y\", parse_dates=True).sort_index()\n",
    "\n",
    "path = data_path + \"microsoft_historical_data.csv\"\n",
    "microsoft_prices = pd.read_csv(path, index_col=\"Date\", date_format=\"%m/%d/%Y\", parse_dates=True).sort_index()\n",
    "\n",
    "apple_prices = apple_prices.rename(columns={\"Close/Last\": \"Close\"})\n",
    "microsoft_prices = microsoft_prices.rename(columns={\"Close/Last\": \"Close\"})"
   ]
  },
  {
   "cell_type": "code",
   "execution_count": 15,
   "id": "e9e9a77a",
   "metadata": {},
   "outputs": [
    {
     "data": {
      "application/vnd.microsoft.datawrangler.viewer.v0+json": {
       "columns": [
        {
         "name": "Date",
         "rawType": "datetime64[ns]",
         "type": "datetime"
        },
        {
         "name": "Close",
         "rawType": "object",
         "type": "string"
        },
        {
         "name": "Volume",
         "rawType": "int64",
         "type": "integer"
        },
        {
         "name": "Open",
         "rawType": "object",
         "type": "string"
        },
        {
         "name": "High",
         "rawType": "object",
         "type": "string"
        },
        {
         "name": "Low",
         "rawType": "object",
         "type": "string"
        }
       ],
       "ref": "620f2e69-4d15-49a3-b10d-d0085bf26e07",
       "rows": [
        [
         "2014-05-06 00:00:00",
         "$21.23 ",
         "373872650",
         "$21.49 ",
         "$21.59 ",
         "$21.23 "
        ],
        [
         "2014-05-07 00:00:00",
         "$21.15 ",
         "282128727",
         "$21.26 ",
         "$21.33 ",
         "$20.99 "
        ],
        [
         "2014-05-08 00:00:00",
         "$21.00 ",
         "228973884",
         "$21.01 ",
         "$21.23 ",
         "$20.94 "
        ],
        [
         "2014-05-09 00:00:00",
         "$20.91 ",
         "291068564",
         "$20.88 ",
         "$20.94 ",
         "$20.73 "
        ],
        [
         "2014-05-12 00:00:00",
         "$21.17 ",
         "212736019",
         "$20.98 ",
         "$21.20 ",
         "$20.98 "
        ]
       ],
       "shape": {
        "columns": 5,
        "rows": 5
       }
      },
      "text/html": [
       "<div>\n",
       "<style scoped>\n",
       "    .dataframe tbody tr th:only-of-type {\n",
       "        vertical-align: middle;\n",
       "    }\n",
       "\n",
       "    .dataframe tbody tr th {\n",
       "        vertical-align: top;\n",
       "    }\n",
       "\n",
       "    .dataframe thead th {\n",
       "        text-align: right;\n",
       "    }\n",
       "</style>\n",
       "<table border=\"1\" class=\"dataframe\">\n",
       "  <thead>\n",
       "    <tr style=\"text-align: right;\">\n",
       "      <th></th>\n",
       "      <th>Close</th>\n",
       "      <th>Volume</th>\n",
       "      <th>Open</th>\n",
       "      <th>High</th>\n",
       "      <th>Low</th>\n",
       "    </tr>\n",
       "    <tr>\n",
       "      <th>Date</th>\n",
       "      <th></th>\n",
       "      <th></th>\n",
       "      <th></th>\n",
       "      <th></th>\n",
       "      <th></th>\n",
       "    </tr>\n",
       "  </thead>\n",
       "  <tbody>\n",
       "    <tr>\n",
       "      <th>2014-05-06</th>\n",
       "      <td>$21.23</td>\n",
       "      <td>373872650</td>\n",
       "      <td>$21.49</td>\n",
       "      <td>$21.59</td>\n",
       "      <td>$21.23</td>\n",
       "    </tr>\n",
       "    <tr>\n",
       "      <th>2014-05-07</th>\n",
       "      <td>$21.15</td>\n",
       "      <td>282128727</td>\n",
       "      <td>$21.26</td>\n",
       "      <td>$21.33</td>\n",
       "      <td>$20.99</td>\n",
       "    </tr>\n",
       "    <tr>\n",
       "      <th>2014-05-08</th>\n",
       "      <td>$21.00</td>\n",
       "      <td>228973884</td>\n",
       "      <td>$21.01</td>\n",
       "      <td>$21.23</td>\n",
       "      <td>$20.94</td>\n",
       "    </tr>\n",
       "    <tr>\n",
       "      <th>2014-05-09</th>\n",
       "      <td>$20.91</td>\n",
       "      <td>291068564</td>\n",
       "      <td>$20.88</td>\n",
       "      <td>$20.94</td>\n",
       "      <td>$20.73</td>\n",
       "    </tr>\n",
       "    <tr>\n",
       "      <th>2014-05-12</th>\n",
       "      <td>$21.17</td>\n",
       "      <td>212736019</td>\n",
       "      <td>$20.98</td>\n",
       "      <td>$21.20</td>\n",
       "      <td>$20.98</td>\n",
       "    </tr>\n",
       "  </tbody>\n",
       "</table>\n",
       "</div>"
      ],
      "text/plain": [
       "              Close     Volume     Open     High      Low\n",
       "Date                                                     \n",
       "2014-05-06  $21.23   373872650  $21.49   $21.59   $21.23 \n",
       "2014-05-07  $21.15   282128727  $21.26   $21.33   $20.99 \n",
       "2014-05-08  $21.00   228973884  $21.01   $21.23   $20.94 \n",
       "2014-05-09  $20.91   291068564  $20.88   $20.94   $20.73 \n",
       "2014-05-12  $21.17   212736019  $20.98   $21.20   $20.98 "
      ]
     },
     "execution_count": 15,
     "metadata": {},
     "output_type": "execute_result"
    }
   ],
   "source": [
    "# Check the first few rows of data\n",
    "apple_prices.head()"
   ]
  },
  {
   "cell_type": "code",
   "execution_count": 16,
   "id": "5dea5158",
   "metadata": {},
   "outputs": [
    {
     "data": {
      "application/vnd.microsoft.datawrangler.viewer.v0+json": {
       "columns": [
        {
         "name": "Date",
         "rawType": "datetime64[ns]",
         "type": "datetime"
        },
        {
         "name": "Close",
         "rawType": "object",
         "type": "string"
        },
        {
         "name": "Volume",
         "rawType": "int64",
         "type": "integer"
        },
        {
         "name": "Open",
         "rawType": "object",
         "type": "string"
        },
        {
         "name": "High",
         "rawType": "object",
         "type": "string"
        },
        {
         "name": "Low",
         "rawType": "object",
         "type": "string"
        }
       ],
       "ref": "5706e9ef-5ab2-444d-ba4d-6d71eddb9da6",
       "rows": [
        [
         "2014-05-06 00:00:00",
         "$39.06",
         "27105700",
         "$39.29",
         "$39.35",
         "$38.95"
        ],
        [
         "2014-05-07 00:00:00",
         "$39.425",
         "41731030",
         "$39.22",
         "$39.51",
         "$38.51"
        ],
        [
         "2014-05-08 00:00:00",
         "$39.64",
         "32089010",
         "$39.34",
         "$39.90",
         "$38.97"
        ],
        [
         "2014-05-09 00:00:00",
         "$39.54",
         "29646100",
         "$39.54",
         "$39.85",
         "$39.37"
        ],
        [
         "2014-05-12 00:00:00",
         "$39.97",
         "22761620",
         "$39.74",
         "$40.02",
         "$39.65"
        ]
       ],
       "shape": {
        "columns": 5,
        "rows": 5
       }
      },
      "text/html": [
       "<div>\n",
       "<style scoped>\n",
       "    .dataframe tbody tr th:only-of-type {\n",
       "        vertical-align: middle;\n",
       "    }\n",
       "\n",
       "    .dataframe tbody tr th {\n",
       "        vertical-align: top;\n",
       "    }\n",
       "\n",
       "    .dataframe thead th {\n",
       "        text-align: right;\n",
       "    }\n",
       "</style>\n",
       "<table border=\"1\" class=\"dataframe\">\n",
       "  <thead>\n",
       "    <tr style=\"text-align: right;\">\n",
       "      <th></th>\n",
       "      <th>Close</th>\n",
       "      <th>Volume</th>\n",
       "      <th>Open</th>\n",
       "      <th>High</th>\n",
       "      <th>Low</th>\n",
       "    </tr>\n",
       "    <tr>\n",
       "      <th>Date</th>\n",
       "      <th></th>\n",
       "      <th></th>\n",
       "      <th></th>\n",
       "      <th></th>\n",
       "      <th></th>\n",
       "    </tr>\n",
       "  </thead>\n",
       "  <tbody>\n",
       "    <tr>\n",
       "      <th>2014-05-06</th>\n",
       "      <td>$39.06</td>\n",
       "      <td>27105700</td>\n",
       "      <td>$39.29</td>\n",
       "      <td>$39.35</td>\n",
       "      <td>$38.95</td>\n",
       "    </tr>\n",
       "    <tr>\n",
       "      <th>2014-05-07</th>\n",
       "      <td>$39.425</td>\n",
       "      <td>41731030</td>\n",
       "      <td>$39.22</td>\n",
       "      <td>$39.51</td>\n",
       "      <td>$38.51</td>\n",
       "    </tr>\n",
       "    <tr>\n",
       "      <th>2014-05-08</th>\n",
       "      <td>$39.64</td>\n",
       "      <td>32089010</td>\n",
       "      <td>$39.34</td>\n",
       "      <td>$39.90</td>\n",
       "      <td>$38.97</td>\n",
       "    </tr>\n",
       "    <tr>\n",
       "      <th>2014-05-09</th>\n",
       "      <td>$39.54</td>\n",
       "      <td>29646100</td>\n",
       "      <td>$39.54</td>\n",
       "      <td>$39.85</td>\n",
       "      <td>$39.37</td>\n",
       "    </tr>\n",
       "    <tr>\n",
       "      <th>2014-05-12</th>\n",
       "      <td>$39.97</td>\n",
       "      <td>22761620</td>\n",
       "      <td>$39.74</td>\n",
       "      <td>$40.02</td>\n",
       "      <td>$39.65</td>\n",
       "    </tr>\n",
       "  </tbody>\n",
       "</table>\n",
       "</div>"
      ],
      "text/plain": [
       "              Close    Volume    Open    High     Low\n",
       "Date                                                 \n",
       "2014-05-06   $39.06  27105700  $39.29  $39.35  $38.95\n",
       "2014-05-07  $39.425  41731030  $39.22  $39.51  $38.51\n",
       "2014-05-08   $39.64  32089010  $39.34  $39.90  $38.97\n",
       "2014-05-09   $39.54  29646100  $39.54  $39.85  $39.37\n",
       "2014-05-12   $39.97  22761620  $39.74  $40.02  $39.65"
      ]
     },
     "execution_count": 16,
     "metadata": {},
     "output_type": "execute_result"
    }
   ],
   "source": [
    "microsoft_prices.head()"
   ]
  },
  {
   "cell_type": "code",
   "execution_count": 17,
   "id": "8c9bed17",
   "metadata": {},
   "outputs": [
    {
     "name": "stdout",
     "output_type": "stream",
     "text": [
      "<class 'pandas.core.frame.DataFrame'>\n",
      "DatetimeIndex: 2517 entries, 2014-05-06 to 2024-05-03\n",
      "Data columns (total 5 columns):\n",
      " #   Column  Non-Null Count  Dtype \n",
      "---  ------  --------------  ----- \n",
      " 0   Close   2514 non-null   object\n",
      " 1   Volume  2517 non-null   int64 \n",
      " 2   Open    2517 non-null   object\n",
      " 3   High    2517 non-null   object\n",
      " 4   Low     2517 non-null   object\n",
      "dtypes: int64(1), object(4)\n",
      "memory usage: 118.0+ KB\n",
      "<class 'pandas.core.frame.DataFrame'>\n",
      "DatetimeIndex: 2517 entries, 2014-05-06 to 2024-05-03\n",
      "Data columns (total 5 columns):\n",
      " #   Column  Non-Null Count  Dtype \n",
      "---  ------  --------------  ----- \n",
      " 0   Close   2517 non-null   object\n",
      " 1   Volume  2517 non-null   int64 \n",
      " 2   Open    2517 non-null   object\n",
      " 3   High    2517 non-null   object\n",
      " 4   Low     2517 non-null   object\n",
      "dtypes: int64(1), object(4)\n",
      "memory usage: 118.0+ KB\n"
     ]
    },
    {
     "data": {
      "application/vnd.microsoft.datawrangler.viewer.v0+json": {
       "columns": [
        {
         "name": "index",
         "rawType": "object",
         "type": "string"
        },
        {
         "name": "Volume",
         "rawType": "float64",
         "type": "float"
        }
       ],
       "ref": "6e4fc9a6-e238-4390-8223-daec05c801e0",
       "rows": [
        [
         "count",
         "2517.0"
        ],
        [
         "mean",
         "127739438.99404052"
        ],
        [
         "std",
         "73574053.363864"
        ],
        [
         "min",
         "24048340.0"
        ],
        [
         "25%",
         "77417760.0"
        ],
        [
         "50%",
         "107760100.0"
        ],
        [
         "75%",
         "156778880.0"
        ],
        [
         "max",
         "757678000.0"
        ]
       ],
       "shape": {
        "columns": 1,
        "rows": 8
       }
      },
      "text/html": [
       "<div>\n",
       "<style scoped>\n",
       "    .dataframe tbody tr th:only-of-type {\n",
       "        vertical-align: middle;\n",
       "    }\n",
       "\n",
       "    .dataframe tbody tr th {\n",
       "        vertical-align: top;\n",
       "    }\n",
       "\n",
       "    .dataframe thead th {\n",
       "        text-align: right;\n",
       "    }\n",
       "</style>\n",
       "<table border=\"1\" class=\"dataframe\">\n",
       "  <thead>\n",
       "    <tr style=\"text-align: right;\">\n",
       "      <th></th>\n",
       "      <th>Volume</th>\n",
       "    </tr>\n",
       "  </thead>\n",
       "  <tbody>\n",
       "    <tr>\n",
       "      <th>count</th>\n",
       "      <td>2.517000e+03</td>\n",
       "    </tr>\n",
       "    <tr>\n",
       "      <th>mean</th>\n",
       "      <td>1.277394e+08</td>\n",
       "    </tr>\n",
       "    <tr>\n",
       "      <th>std</th>\n",
       "      <td>7.357405e+07</td>\n",
       "    </tr>\n",
       "    <tr>\n",
       "      <th>min</th>\n",
       "      <td>2.404834e+07</td>\n",
       "    </tr>\n",
       "    <tr>\n",
       "      <th>25%</th>\n",
       "      <td>7.741776e+07</td>\n",
       "    </tr>\n",
       "    <tr>\n",
       "      <th>50%</th>\n",
       "      <td>1.077601e+08</td>\n",
       "    </tr>\n",
       "    <tr>\n",
       "      <th>75%</th>\n",
       "      <td>1.567789e+08</td>\n",
       "    </tr>\n",
       "    <tr>\n",
       "      <th>max</th>\n",
       "      <td>7.576780e+08</td>\n",
       "    </tr>\n",
       "  </tbody>\n",
       "</table>\n",
       "</div>"
      ],
      "text/plain": [
       "             Volume\n",
       "count  2.517000e+03\n",
       "mean   1.277394e+08\n",
       "std    7.357405e+07\n",
       "min    2.404834e+07\n",
       "25%    7.741776e+07\n",
       "50%    1.077601e+08\n",
       "75%    1.567789e+08\n",
       "max    7.576780e+08"
      ]
     },
     "execution_count": 17,
     "metadata": {},
     "output_type": "execute_result"
    }
   ],
   "source": [
    "# Use methods like .info() and .describe() to explore the data\n",
    "\n",
    "apple_prices.info()\n",
    "microsoft_prices.info()\n",
    "\n",
    "apple_prices.describe()\n",
    "# microsoft_prices.describe()"
   ]
  },
  {
   "cell_type": "markdown",
   "id": "06c8d9dc",
   "metadata": {},
   "source": [
    "## Data preprocessing: Check for missing data and forward fill\n",
    "\n",
    "Check the Apple historical prices for missing data. Check for missing data in all columns. If there's data missing, use a forward fill to fill in those missing prices. "
   ]
  },
  {
   "cell_type": "code",
   "execution_count": 20,
   "id": "72698518",
   "metadata": {},
   "outputs": [
    {
     "data": {
      "application/vnd.microsoft.datawrangler.viewer.v0+json": {
       "columns": [
        {
         "name": "index",
         "rawType": "object",
         "type": "string"
        },
        {
         "name": "0",
         "rawType": "int64",
         "type": "integer"
        }
       ],
       "ref": "eff6d987-5d08-42ef-b447-6773c33e6836",
       "rows": [
        [
         "Close",
         "3"
        ],
        [
         "Volume",
         "0"
        ],
        [
         "Open",
         "0"
        ],
        [
         "High",
         "0"
        ],
        [
         "Low",
         "0"
        ]
       ],
       "shape": {
        "columns": 1,
        "rows": 5
       }
      },
      "text/plain": [
       "Close     3\n",
       "Volume    0\n",
       "Open      0\n",
       "High      0\n",
       "Low       0\n",
       "dtype: int64"
      ]
     },
     "execution_count": 20,
     "metadata": {},
     "output_type": "execute_result"
    }
   ],
   "source": [
    "apple_prices.isna().sum()"
   ]
  },
  {
   "cell_type": "code",
   "execution_count": 21,
   "id": "4807173e",
   "metadata": {},
   "outputs": [
    {
     "data": {
      "application/vnd.microsoft.datawrangler.viewer.v0+json": {
       "columns": [
        {
         "name": "Date",
         "rawType": "datetime64[ns]",
         "type": "datetime"
        },
        {
         "name": "Close",
         "rawType": "object",
         "type": "unknown"
        },
        {
         "name": "Volume",
         "rawType": "int64",
         "type": "integer"
        },
        {
         "name": "Open",
         "rawType": "object",
         "type": "string"
        },
        {
         "name": "High",
         "rawType": "object",
         "type": "string"
        },
        {
         "name": "Low",
         "rawType": "object",
         "type": "string"
        }
       ],
       "ref": "ecb6c728-bce8-4efe-ac4d-789730b5c063",
       "rows": [
        [
         "2023-11-20 00:00:00",
         null,
         "46538610",
         "$189.89 ",
         "$191.91 ",
         "$189.88 "
        ],
        [
         "2024-01-26 00:00:00",
         null,
         "44594010",
         "$194.27 ",
         "$194.76 ",
         "$191.94 "
        ],
        [
         "2024-04-08 00:00:00",
         null,
         "37425510",
         "$169.03 ",
         "$169.20 ",
         "$168.24 "
        ]
       ],
       "shape": {
        "columns": 5,
        "rows": 3
       }
      },
      "text/html": [
       "<div>\n",
       "<style scoped>\n",
       "    .dataframe tbody tr th:only-of-type {\n",
       "        vertical-align: middle;\n",
       "    }\n",
       "\n",
       "    .dataframe tbody tr th {\n",
       "        vertical-align: top;\n",
       "    }\n",
       "\n",
       "    .dataframe thead th {\n",
       "        text-align: right;\n",
       "    }\n",
       "</style>\n",
       "<table border=\"1\" class=\"dataframe\">\n",
       "  <thead>\n",
       "    <tr style=\"text-align: right;\">\n",
       "      <th></th>\n",
       "      <th>Close</th>\n",
       "      <th>Volume</th>\n",
       "      <th>Open</th>\n",
       "      <th>High</th>\n",
       "      <th>Low</th>\n",
       "    </tr>\n",
       "    <tr>\n",
       "      <th>Date</th>\n",
       "      <th></th>\n",
       "      <th></th>\n",
       "      <th></th>\n",
       "      <th></th>\n",
       "      <th></th>\n",
       "    </tr>\n",
       "  </thead>\n",
       "  <tbody>\n",
       "    <tr>\n",
       "      <th>2023-11-20</th>\n",
       "      <td>NaN</td>\n",
       "      <td>46538610</td>\n",
       "      <td>$189.89</td>\n",
       "      <td>$191.91</td>\n",
       "      <td>$189.88</td>\n",
       "    </tr>\n",
       "    <tr>\n",
       "      <th>2024-01-26</th>\n",
       "      <td>NaN</td>\n",
       "      <td>44594010</td>\n",
       "      <td>$194.27</td>\n",
       "      <td>$194.76</td>\n",
       "      <td>$191.94</td>\n",
       "    </tr>\n",
       "    <tr>\n",
       "      <th>2024-04-08</th>\n",
       "      <td>NaN</td>\n",
       "      <td>37425510</td>\n",
       "      <td>$169.03</td>\n",
       "      <td>$169.20</td>\n",
       "      <td>$168.24</td>\n",
       "    </tr>\n",
       "  </tbody>\n",
       "</table>\n",
       "</div>"
      ],
      "text/plain": [
       "           Close    Volume      Open      High       Low\n",
       "Date                                                    \n",
       "2023-11-20   NaN  46538610  $189.89   $191.91   $189.88 \n",
       "2024-01-26   NaN  44594010  $194.27   $194.76   $191.94 \n",
       "2024-04-08   NaN  37425510  $169.03   $169.20   $168.24 "
      ]
     },
     "execution_count": 21,
     "metadata": {},
     "output_type": "execute_result"
    }
   ],
   "source": [
    "# Check for nulls\n",
    "apple_prices[apple_prices.isna().any(axis=1)]"
   ]
  },
  {
   "cell_type": "code",
   "execution_count": 22,
   "id": "00e4d6f5",
   "metadata": {},
   "outputs": [],
   "source": [
    "# Forward fill any missing data\n",
    "apple_prices.ffill(inplace=True)"
   ]
  },
  {
   "cell_type": "code",
   "execution_count": 23,
   "id": "069ad3d3",
   "metadata": {},
   "outputs": [
    {
     "data": {
      "application/vnd.microsoft.datawrangler.viewer.v0+json": {
       "columns": [
        {
         "name": "index",
         "rawType": "object",
         "type": "string"
        },
        {
         "name": "0",
         "rawType": "int64",
         "type": "integer"
        }
       ],
       "ref": "f41a150d-549f-4b02-b5c0-ccd4513cff89",
       "rows": [
        [
         "Close",
         "0"
        ],
        [
         "Volume",
         "0"
        ],
        [
         "Open",
         "0"
        ],
        [
         "High",
         "0"
        ],
        [
         "Low",
         "0"
        ]
       ],
       "shape": {
        "columns": 1,
        "rows": 5
       }
      },
      "text/plain": [
       "Close     0\n",
       "Volume    0\n",
       "Open      0\n",
       "High      0\n",
       "Low       0\n",
       "dtype: int64"
      ]
     },
     "execution_count": 23,
     "metadata": {},
     "output_type": "execute_result"
    }
   ],
   "source": [
    "apple_prices.isna().sum()\n"
   ]
  },
  {
   "cell_type": "code",
   "execution_count": 25,
   "id": "f82d3b2d",
   "metadata": {},
   "outputs": [
    {
     "data": {
      "application/vnd.microsoft.datawrangler.viewer.v0+json": {
       "columns": [
        {
         "name": "Date",
         "rawType": "datetime64[ns]",
         "type": "datetime"
        },
        {
         "name": "Close",
         "rawType": "object",
         "type": "string"
        },
        {
         "name": "Volume",
         "rawType": "int64",
         "type": "integer"
        },
        {
         "name": "Open",
         "rawType": "object",
         "type": "string"
        },
        {
         "name": "High",
         "rawType": "object",
         "type": "string"
        },
        {
         "name": "Low",
         "rawType": "object",
         "type": "string"
        }
       ],
       "ref": "10493c69-e9a5-49a7-a8a0-1f159eeb16d4",
       "rows": [],
       "shape": {
        "columns": 5,
        "rows": 0
       }
      },
      "text/html": [
       "<div>\n",
       "<style scoped>\n",
       "    .dataframe tbody tr th:only-of-type {\n",
       "        vertical-align: middle;\n",
       "    }\n",
       "\n",
       "    .dataframe tbody tr th {\n",
       "        vertical-align: top;\n",
       "    }\n",
       "\n",
       "    .dataframe thead th {\n",
       "        text-align: right;\n",
       "    }\n",
       "</style>\n",
       "<table border=\"1\" class=\"dataframe\">\n",
       "  <thead>\n",
       "    <tr style=\"text-align: right;\">\n",
       "      <th></th>\n",
       "      <th>Close</th>\n",
       "      <th>Volume</th>\n",
       "      <th>Open</th>\n",
       "      <th>High</th>\n",
       "      <th>Low</th>\n",
       "    </tr>\n",
       "    <tr>\n",
       "      <th>Date</th>\n",
       "      <th></th>\n",
       "      <th></th>\n",
       "      <th></th>\n",
       "      <th></th>\n",
       "      <th></th>\n",
       "    </tr>\n",
       "  </thead>\n",
       "  <tbody>\n",
       "  </tbody>\n",
       "</table>\n",
       "</div>"
      ],
      "text/plain": [
       "Empty DataFrame\n",
       "Columns: [Close, Volume, Open, High, Low]\n",
       "Index: []"
      ]
     },
     "execution_count": 25,
     "metadata": {},
     "output_type": "execute_result"
    }
   ],
   "source": [
    "# Check again for nulls after using forward fill\n",
    "apple_prices[apple_prices.isna().any(axis=1)]"
   ]
  },
  {
   "cell_type": "markdown",
   "id": "2614c615",
   "metadata": {},
   "source": [
    "## Data preprocessing: Remove special characters and convert to numeric/datetime\n",
    "\n",
    "The next step in the data engineering process is to standardize and clean up data. In this step, you'll check for odd formatting and special characters that will make it difficult to work with data as numeric or datetime. \n",
    "\n",
    "In this step:\n",
    "* Create a function that takes in a dataframe and a list of columns and removes dollar signs ('$') from those columns\n",
    "* Convert any columns with date/time data into a `pandas` `datetime` format"
   ]
  },
  {
   "cell_type": "code",
   "execution_count": 26,
   "id": "a47537af",
   "metadata": {},
   "outputs": [],
   "source": [
    "def convert_dollar_columns_to_numeric(df, numeric_columns):\n",
    "    \"\"\"\n",
    "    Removes dollar signs ('$') from a list of columns in a given dataframe AND casts the columns to a numeric datatype.\n",
    "    Updates dataframe IN PLACE.\n",
    "\n",
    "    Inputs:\n",
    "        df: dataframe to be operated on\n",
    "        numeric_columns: columns that should have numeric data but have dollar signs currently\n",
    "\n",
    "    Returns:\n",
    "        None - changes to the dataframe can be made in place\n",
    "    \"\"\"\n",
    "    print(\"\\n ===== PRE CLEANUP =====\")\n",
    "    df.info()\n",
    "\n",
    "    for column in numeric_columns:\n",
    "        print(f\"\\n ===== working on column {column} =====\")\n",
    "        print(df[column].dtype)\n",
    "        df[column] = df[column].replace({r\"[\\$,]\": \"\"}, regex=True).astype(float)\n",
    "        # df[\"quantity\"] = pd.to_numeric(df[\"quantity\"], errors=\"coerce\")\n",
    "        print(df[column].dtype)\n",
    "\n",
    "    print(\"\\n ===== POST CLEANUP =====\")\n",
    "\n",
    "    df.info()"
   ]
  },
  {
   "cell_type": "code",
   "execution_count": 27,
   "id": "055f8621",
   "metadata": {},
   "outputs": [
    {
     "name": "stdout",
     "output_type": "stream",
     "text": [
      "\n",
      " ===== PRE CLEANUP =====\n",
      "<class 'pandas.core.frame.DataFrame'>\n",
      "DatetimeIndex: 2517 entries, 2014-05-06 to 2024-05-03\n",
      "Data columns (total 5 columns):\n",
      " #   Column  Non-Null Count  Dtype \n",
      "---  ------  --------------  ----- \n",
      " 0   Close   2517 non-null   object\n",
      " 1   Volume  2517 non-null   int64 \n",
      " 2   Open    2517 non-null   object\n",
      " 3   High    2517 non-null   object\n",
      " 4   Low     2517 non-null   object\n",
      "dtypes: int64(1), object(4)\n",
      "memory usage: 118.0+ KB\n",
      "\n",
      " ===== working on column Close =====\n",
      "object\n",
      "float64\n",
      "\n",
      " ===== working on column Open =====\n",
      "object\n",
      "float64\n",
      "\n",
      " ===== working on column High =====\n",
      "object\n",
      "float64\n",
      "\n",
      " ===== working on column Low =====\n",
      "object\n",
      "float64\n",
      "\n",
      " ===== POST CLEANUP =====\n",
      "<class 'pandas.core.frame.DataFrame'>\n",
      "DatetimeIndex: 2517 entries, 2014-05-06 to 2024-05-03\n",
      "Data columns (total 5 columns):\n",
      " #   Column  Non-Null Count  Dtype  \n",
      "---  ------  --------------  -----  \n",
      " 0   Close   2517 non-null   float64\n",
      " 1   Volume  2517 non-null   int64  \n",
      " 2   Open    2517 non-null   float64\n",
      " 3   High    2517 non-null   float64\n",
      " 4   Low     2517 non-null   float64\n",
      "dtypes: float64(4), int64(1)\n",
      "memory usage: 118.0 KB\n",
      "\n",
      " ===== PRE CLEANUP =====\n",
      "<class 'pandas.core.frame.DataFrame'>\n",
      "DatetimeIndex: 2517 entries, 2014-05-06 to 2024-05-03\n",
      "Data columns (total 5 columns):\n",
      " #   Column  Non-Null Count  Dtype \n",
      "---  ------  --------------  ----- \n",
      " 0   Close   2517 non-null   object\n",
      " 1   Volume  2517 non-null   int64 \n",
      " 2   Open    2517 non-null   object\n",
      " 3   High    2517 non-null   object\n",
      " 4   Low     2517 non-null   object\n",
      "dtypes: int64(1), object(4)\n",
      "memory usage: 118.0+ KB\n",
      "\n",
      " ===== working on column Close =====\n",
      "object\n",
      "float64\n",
      "\n",
      " ===== working on column Open =====\n",
      "object\n",
      "float64\n",
      "\n",
      " ===== working on column High =====\n",
      "object\n",
      "float64\n",
      "\n",
      " ===== working on column Low =====\n",
      "object\n",
      "float64\n",
      "\n",
      " ===== POST CLEANUP =====\n",
      "<class 'pandas.core.frame.DataFrame'>\n",
      "DatetimeIndex: 2517 entries, 2014-05-06 to 2024-05-03\n",
      "Data columns (total 5 columns):\n",
      " #   Column  Non-Null Count  Dtype  \n",
      "---  ------  --------------  -----  \n",
      " 0   Close   2517 non-null   float64\n",
      " 1   Volume  2517 non-null   int64  \n",
      " 2   Open    2517 non-null   float64\n",
      " 3   High    2517 non-null   float64\n",
      " 4   Low     2517 non-null   float64\n",
      "dtypes: float64(4), int64(1)\n",
      "memory usage: 118.0 KB\n"
     ]
    }
   ],
   "source": [
    "# Use convert_dollar_columns_to_numeric() to remove the dollar sign from the Apple and Microsoft datasets\n",
    "\n",
    "columns = [\"Close\", \"Open\", \"High\", \"Low\"]\n",
    "\n",
    "convert_dollar_columns_to_numeric(apple_prices, columns)\n",
    "convert_dollar_columns_to_numeric(microsoft_prices, columns)"
   ]
  },
  {
   "cell_type": "code",
   "execution_count": 29,
   "id": "efea17ca",
   "metadata": {},
   "outputs": [
    {
     "data": {
      "text/plain": [
       "DatetimeIndex(['2014-05-06', '2014-05-07', '2014-05-08', '2014-05-09',\n",
       "               '2014-05-12', '2014-05-13', '2014-05-14', '2014-05-15',\n",
       "               '2014-05-16', '2014-05-19',\n",
       "               ...\n",
       "               '2024-04-22', '2024-04-23', '2024-04-24', '2024-04-25',\n",
       "               '2024-04-26', '2024-04-29', '2024-04-30', '2024-05-01',\n",
       "               '2024-05-02', '2024-05-03'],\n",
       "              dtype='datetime64[ns]', name='Date', length=2517, freq=None)"
      ]
     },
     "execution_count": 29,
     "metadata": {},
     "output_type": "execute_result"
    }
   ],
   "source": [
    "# Use pandas's to_datetime() to convert any columns that are in a datetime format\n",
    "\n",
    "# I have already changed the Date columns to be the index in a datetime format:\n",
    "apple_prices.index"
   ]
  },
  {
   "cell_type": "code",
   "execution_count": 30,
   "id": "8a2089e3",
   "metadata": {},
   "outputs": [
    {
     "name": "stdout",
     "output_type": "stream",
     "text": [
      "<class 'pandas.core.frame.DataFrame'>\n",
      "DatetimeIndex: 2517 entries, 2014-05-06 to 2024-05-03\n",
      "Data columns (total 5 columns):\n",
      " #   Column  Non-Null Count  Dtype  \n",
      "---  ------  --------------  -----  \n",
      " 0   Close   2517 non-null   float64\n",
      " 1   Volume  2517 non-null   int64  \n",
      " 2   Open    2517 non-null   float64\n",
      " 3   High    2517 non-null   float64\n",
      " 4   Low     2517 non-null   float64\n",
      "dtypes: float64(4), int64(1)\n",
      "memory usage: 118.0 KB\n"
     ]
    }
   ],
   "source": [
    "# Use .info() and check the type of each column to ensure that the above steps worked\n",
    "apple_prices.info()"
   ]
  },
  {
   "cell_type": "code",
   "execution_count": null,
   "id": "4decb476",
   "metadata": {},
   "outputs": [],
   "source": []
  },
  {
   "cell_type": "markdown",
   "id": "95ad8e72",
   "metadata": {},
   "source": [
    "## Data preprocessing: Align datetime data\n",
    "\n",
    "Data engineering includes changing data with a datetime component if needed so that different time series can be more easily compared or plotted against each other. \n",
    "\n",
    "In this step:\n",
    "\n",
    "* Align the inflation date so that it falls on the last day of the month instead of the first\n",
    "\n",
    "Helpful hints: \n",
    "* Use the `pandas` `offsets` method using `MonthEnd(0)` to set the 'Date' column to month-end"
   ]
  },
  {
   "cell_type": "code",
   "execution_count": 31,
   "id": "fe782db6",
   "metadata": {},
   "outputs": [],
   "source": [
    "# Align inflation data so that the date is the month end (e.g. Jan 31, Feb 28/28)\n",
    "\n",
    "inflation_data.index = inflation_data.index + pd.offsets.MonthEnd(0)"
   ]
  },
  {
   "cell_type": "code",
   "execution_count": 32,
   "id": "f2ce596b",
   "metadata": {},
   "outputs": [
    {
     "data": {
      "application/vnd.microsoft.datawrangler.viewer.v0+json": {
       "columns": [
        {
         "name": "DATE",
         "rawType": "datetime64[ns]",
         "type": "datetime"
        },
        {
         "name": "CORESTICKM159SFRBATL",
         "rawType": "float64",
         "type": "float"
        }
       ],
       "ref": "c9f978a6-73d8-4047-86c5-e6a172e26c61",
       "rows": [
        [
         "1968-01-31 00:00:00",
         "3.65186106"
        ],
        [
         "1968-02-29 00:00:00",
         "3.673819411"
        ],
        [
         "1968-03-31 00:00:00",
         "4.142163975"
        ],
        [
         "1968-04-30 00:00:00",
         "4.155828095"
        ],
        [
         "1968-05-31 00:00:00",
         "4.088245437"
        ]
       ],
       "shape": {
        "columns": 1,
        "rows": 5
       }
      },
      "text/html": [
       "<div>\n",
       "<style scoped>\n",
       "    .dataframe tbody tr th:only-of-type {\n",
       "        vertical-align: middle;\n",
       "    }\n",
       "\n",
       "    .dataframe tbody tr th {\n",
       "        vertical-align: top;\n",
       "    }\n",
       "\n",
       "    .dataframe thead th {\n",
       "        text-align: right;\n",
       "    }\n",
       "</style>\n",
       "<table border=\"1\" class=\"dataframe\">\n",
       "  <thead>\n",
       "    <tr style=\"text-align: right;\">\n",
       "      <th></th>\n",
       "      <th>CORESTICKM159SFRBATL</th>\n",
       "    </tr>\n",
       "    <tr>\n",
       "      <th>DATE</th>\n",
       "      <th></th>\n",
       "    </tr>\n",
       "  </thead>\n",
       "  <tbody>\n",
       "    <tr>\n",
       "      <th>1968-01-31</th>\n",
       "      <td>3.651861</td>\n",
       "    </tr>\n",
       "    <tr>\n",
       "      <th>1968-02-29</th>\n",
       "      <td>3.673819</td>\n",
       "    </tr>\n",
       "    <tr>\n",
       "      <th>1968-03-31</th>\n",
       "      <td>4.142164</td>\n",
       "    </tr>\n",
       "    <tr>\n",
       "      <th>1968-04-30</th>\n",
       "      <td>4.155828</td>\n",
       "    </tr>\n",
       "    <tr>\n",
       "      <th>1968-05-31</th>\n",
       "      <td>4.088245</td>\n",
       "    </tr>\n",
       "  </tbody>\n",
       "</table>\n",
       "</div>"
      ],
      "text/plain": [
       "            CORESTICKM159SFRBATL\n",
       "DATE                            \n",
       "1968-01-31              3.651861\n",
       "1968-02-29              3.673819\n",
       "1968-03-31              4.142164\n",
       "1968-04-30              4.155828\n",
       "1968-05-31              4.088245"
      ]
     },
     "execution_count": 32,
     "metadata": {},
     "output_type": "execute_result"
    }
   ],
   "source": [
    "inflation_data.head()"
   ]
  },
  {
   "cell_type": "markdown",
   "id": "e072f4a1",
   "metadata": {},
   "source": [
    "## Data preprocessing: Upsample, downsample and interpolate data\n",
    "\n",
    "Inflation data is presented monthly in this dataset. However, for some models, you may need it at a quarterly frequency, and for some models you may need it at a quarterly frequency. \n",
    "\n",
    "In this step:\n",
    "* Create a new quarterly inflation dataframe by downsampling the monthly inflation data to quarterly using the mean (e.g. for quarter 1 in a given year, use the average values from January, February, and March)\n",
    "* Create a new weekly inflation dataframe by upsampling the monthly inflation data. For this, you'll need to use `resample` and then you'll need to `interpolate` to fill in the missing data at the weekly frequency\n",
    "\n",
    "Note that you may need to change the index for some of these operations! "
   ]
  },
  {
   "cell_type": "code",
   "execution_count": 33,
   "id": "28fea2f6",
   "metadata": {},
   "outputs": [],
   "source": [
    "# Upsample and interpolate from monthly to weekly\n",
    "inflation_data_weekly = inflation_data.resample(\"W\").interpolate(method=\"time\").bfill()"
   ]
  },
  {
   "cell_type": "code",
   "execution_count": 34,
   "id": "3faacb54",
   "metadata": {},
   "outputs": [
    {
     "data": {
      "application/vnd.microsoft.datawrangler.viewer.v0+json": {
       "columns": [
        {
         "name": "DATE",
         "rawType": "datetime64[ns]",
         "type": "datetime"
        },
        {
         "name": "CORESTICKM159SFRBATL",
         "rawType": "float64",
         "type": "float"
        }
       ],
       "ref": "d86a3ec7-6f96-4981-973c-5685636d25f5",
       "rows": [
        [
         "1968-02-04 00:00:00",
         "4.142163975"
        ],
        [
         "1968-02-11 00:00:00",
         "4.142163975"
        ],
        [
         "1968-02-18 00:00:00",
         "4.142163975"
        ],
        [
         "1968-02-25 00:00:00",
         "4.142163975"
        ],
        [
         "1968-03-03 00:00:00",
         "4.142163975"
        ],
        [
         "1968-03-10 00:00:00",
         "4.142163975"
        ],
        [
         "1968-03-17 00:00:00",
         "4.142163975"
        ],
        [
         "1968-03-24 00:00:00",
         "4.142163975"
        ],
        [
         "1968-03-31 00:00:00",
         "4.142163975"
        ],
        [
         "1968-04-07 00:00:00",
         "4.173195157461539"
        ],
        [
         "1968-04-14 00:00:00",
         "4.204226339923077"
        ],
        [
         "1968-04-21 00:00:00",
         "4.235257522384615"
        ],
        [
         "1968-04-28 00:00:00",
         "4.266288704846153"
        ],
        [
         "1968-05-05 00:00:00",
         "4.297319887307692"
        ],
        [
         "1968-05-12 00:00:00",
         "4.328351069769231"
        ],
        [
         "1968-05-19 00:00:00",
         "4.359382252230769"
        ],
        [
         "1968-05-26 00:00:00",
         "4.390413434692308"
        ],
        [
         "1968-06-02 00:00:00",
         "4.421444617153846"
        ],
        [
         "1968-06-09 00:00:00",
         "4.452475799615384"
        ],
        [
         "1968-06-16 00:00:00",
         "4.483506982076923"
        ],
        [
         "1968-06-23 00:00:00",
         "4.514538164538461"
        ],
        [
         "1968-06-30 00:00:00",
         "4.545569347"
        ],
        [
         "1968-07-07 00:00:00",
         "4.576211595377049"
        ],
        [
         "1968-07-14 00:00:00",
         "4.606853843754098"
        ],
        [
         "1968-07-21 00:00:00",
         "4.637496092131148"
        ]
       ],
       "shape": {
        "columns": 1,
        "rows": 25
       }
      },
      "text/html": [
       "<div>\n",
       "<style scoped>\n",
       "    .dataframe tbody tr th:only-of-type {\n",
       "        vertical-align: middle;\n",
       "    }\n",
       "\n",
       "    .dataframe tbody tr th {\n",
       "        vertical-align: top;\n",
       "    }\n",
       "\n",
       "    .dataframe thead th {\n",
       "        text-align: right;\n",
       "    }\n",
       "</style>\n",
       "<table border=\"1\" class=\"dataframe\">\n",
       "  <thead>\n",
       "    <tr style=\"text-align: right;\">\n",
       "      <th></th>\n",
       "      <th>CORESTICKM159SFRBATL</th>\n",
       "    </tr>\n",
       "    <tr>\n",
       "      <th>DATE</th>\n",
       "      <th></th>\n",
       "    </tr>\n",
       "  </thead>\n",
       "  <tbody>\n",
       "    <tr>\n",
       "      <th>1968-02-04</th>\n",
       "      <td>4.142164</td>\n",
       "    </tr>\n",
       "    <tr>\n",
       "      <th>1968-02-11</th>\n",
       "      <td>4.142164</td>\n",
       "    </tr>\n",
       "    <tr>\n",
       "      <th>1968-02-18</th>\n",
       "      <td>4.142164</td>\n",
       "    </tr>\n",
       "    <tr>\n",
       "      <th>1968-02-25</th>\n",
       "      <td>4.142164</td>\n",
       "    </tr>\n",
       "    <tr>\n",
       "      <th>1968-03-03</th>\n",
       "      <td>4.142164</td>\n",
       "    </tr>\n",
       "    <tr>\n",
       "      <th>1968-03-10</th>\n",
       "      <td>4.142164</td>\n",
       "    </tr>\n",
       "    <tr>\n",
       "      <th>1968-03-17</th>\n",
       "      <td>4.142164</td>\n",
       "    </tr>\n",
       "    <tr>\n",
       "      <th>1968-03-24</th>\n",
       "      <td>4.142164</td>\n",
       "    </tr>\n",
       "    <tr>\n",
       "      <th>1968-03-31</th>\n",
       "      <td>4.142164</td>\n",
       "    </tr>\n",
       "    <tr>\n",
       "      <th>1968-04-07</th>\n",
       "      <td>4.173195</td>\n",
       "    </tr>\n",
       "    <tr>\n",
       "      <th>1968-04-14</th>\n",
       "      <td>4.204226</td>\n",
       "    </tr>\n",
       "    <tr>\n",
       "      <th>1968-04-21</th>\n",
       "      <td>4.235258</td>\n",
       "    </tr>\n",
       "    <tr>\n",
       "      <th>1968-04-28</th>\n",
       "      <td>4.266289</td>\n",
       "    </tr>\n",
       "    <tr>\n",
       "      <th>1968-05-05</th>\n",
       "      <td>4.297320</td>\n",
       "    </tr>\n",
       "    <tr>\n",
       "      <th>1968-05-12</th>\n",
       "      <td>4.328351</td>\n",
       "    </tr>\n",
       "    <tr>\n",
       "      <th>1968-05-19</th>\n",
       "      <td>4.359382</td>\n",
       "    </tr>\n",
       "    <tr>\n",
       "      <th>1968-05-26</th>\n",
       "      <td>4.390413</td>\n",
       "    </tr>\n",
       "    <tr>\n",
       "      <th>1968-06-02</th>\n",
       "      <td>4.421445</td>\n",
       "    </tr>\n",
       "    <tr>\n",
       "      <th>1968-06-09</th>\n",
       "      <td>4.452476</td>\n",
       "    </tr>\n",
       "    <tr>\n",
       "      <th>1968-06-16</th>\n",
       "      <td>4.483507</td>\n",
       "    </tr>\n",
       "    <tr>\n",
       "      <th>1968-06-23</th>\n",
       "      <td>4.514538</td>\n",
       "    </tr>\n",
       "    <tr>\n",
       "      <th>1968-06-30</th>\n",
       "      <td>4.545569</td>\n",
       "    </tr>\n",
       "    <tr>\n",
       "      <th>1968-07-07</th>\n",
       "      <td>4.576212</td>\n",
       "    </tr>\n",
       "    <tr>\n",
       "      <th>1968-07-14</th>\n",
       "      <td>4.606854</td>\n",
       "    </tr>\n",
       "    <tr>\n",
       "      <th>1968-07-21</th>\n",
       "      <td>4.637496</td>\n",
       "    </tr>\n",
       "  </tbody>\n",
       "</table>\n",
       "</div>"
      ],
      "text/plain": [
       "            CORESTICKM159SFRBATL\n",
       "DATE                            \n",
       "1968-02-04              4.142164\n",
       "1968-02-11              4.142164\n",
       "1968-02-18              4.142164\n",
       "1968-02-25              4.142164\n",
       "1968-03-03              4.142164\n",
       "1968-03-10              4.142164\n",
       "1968-03-17              4.142164\n",
       "1968-03-24              4.142164\n",
       "1968-03-31              4.142164\n",
       "1968-04-07              4.173195\n",
       "1968-04-14              4.204226\n",
       "1968-04-21              4.235258\n",
       "1968-04-28              4.266289\n",
       "1968-05-05              4.297320\n",
       "1968-05-12              4.328351\n",
       "1968-05-19              4.359382\n",
       "1968-05-26              4.390413\n",
       "1968-06-02              4.421445\n",
       "1968-06-09              4.452476\n",
       "1968-06-16              4.483507\n",
       "1968-06-23              4.514538\n",
       "1968-06-30              4.545569\n",
       "1968-07-07              4.576212\n",
       "1968-07-14              4.606854\n",
       "1968-07-21              4.637496"
      ]
     },
     "execution_count": 34,
     "metadata": {},
     "output_type": "execute_result"
    }
   ],
   "source": [
    "inflation_data_weekly.head(25)"
   ]
  },
  {
   "cell_type": "code",
   "execution_count": 35,
   "id": "635647a1",
   "metadata": {},
   "outputs": [
    {
     "data": {
      "application/vnd.microsoft.datawrangler.viewer.v0+json": {
       "columns": [
        {
         "name": "DATE",
         "rawType": "datetime64[ns]",
         "type": "datetime"
        },
        {
         "name": "CORESTICKM159SFRBATL",
         "rawType": "float64",
         "type": "float"
        }
       ],
       "ref": "ceebb21e-c00a-4304-9da7-e99711ddaeda",
       "rows": [
        [
         "1968-03-31 00:00:00",
         "3.8226148153333335"
        ],
        [
         "1968-06-30 00:00:00",
         "4.263214293"
        ],
        [
         "1968-09-30 00:00:00",
         "4.8826433043333335"
        ],
        [
         "1968-12-31 00:00:00",
         "5.4294427113333334"
        ],
        [
         "1969-03-31 00:00:00",
         "5.8737702936666665"
        ]
       ],
       "shape": {
        "columns": 1,
        "rows": 5
       }
      },
      "text/html": [
       "<div>\n",
       "<style scoped>\n",
       "    .dataframe tbody tr th:only-of-type {\n",
       "        vertical-align: middle;\n",
       "    }\n",
       "\n",
       "    .dataframe tbody tr th {\n",
       "        vertical-align: top;\n",
       "    }\n",
       "\n",
       "    .dataframe thead th {\n",
       "        text-align: right;\n",
       "    }\n",
       "</style>\n",
       "<table border=\"1\" class=\"dataframe\">\n",
       "  <thead>\n",
       "    <tr style=\"text-align: right;\">\n",
       "      <th></th>\n",
       "      <th>CORESTICKM159SFRBATL</th>\n",
       "    </tr>\n",
       "    <tr>\n",
       "      <th>DATE</th>\n",
       "      <th></th>\n",
       "    </tr>\n",
       "  </thead>\n",
       "  <tbody>\n",
       "    <tr>\n",
       "      <th>1968-03-31</th>\n",
       "      <td>3.822615</td>\n",
       "    </tr>\n",
       "    <tr>\n",
       "      <th>1968-06-30</th>\n",
       "      <td>4.263214</td>\n",
       "    </tr>\n",
       "    <tr>\n",
       "      <th>1968-09-30</th>\n",
       "      <td>4.882643</td>\n",
       "    </tr>\n",
       "    <tr>\n",
       "      <th>1968-12-31</th>\n",
       "      <td>5.429443</td>\n",
       "    </tr>\n",
       "    <tr>\n",
       "      <th>1969-03-31</th>\n",
       "      <td>5.873770</td>\n",
       "    </tr>\n",
       "  </tbody>\n",
       "</table>\n",
       "</div>"
      ],
      "text/plain": [
       "            CORESTICKM159SFRBATL\n",
       "DATE                            \n",
       "1968-03-31              3.822615\n",
       "1968-06-30              4.263214\n",
       "1968-09-30              4.882643\n",
       "1968-12-31              5.429443\n",
       "1969-03-31              5.873770"
      ]
     },
     "execution_count": 35,
     "metadata": {},
     "output_type": "execute_result"
    }
   ],
   "source": [
    "# Downsample from monthly to quarterly\n",
    "inflation_data_quarterly = inflation_data.resample(\"QE\").mean()\n",
    "inflation_data_quarterly.head()"
   ]
  },
  {
   "cell_type": "markdown",
   "id": "0ea82443",
   "metadata": {},
   "source": [
    "## Data preprocessing: Normalize/standardize a feature\n",
    "\n",
    "Economic time series data often involve variables measured on different scales (e.g., GDP in trillions of dollars, inflation in percentage points). Standardizing these variables (typically by subtracting the mean and dividing by the standard deviation) puts them on a common scale, allowing for meaningful comparisons and analyses.\n",
    "\n",
    "Your task:\n",
    "* Standardize the GDP data. You may do this manually by subtracting the mean and dividing by the standard deviation, or you may use a built-in method from a library like `sklearn`'s `StandardScaler`"
   ]
  },
  {
   "cell_type": "code",
   "execution_count": 36,
   "id": "4e114c7c",
   "metadata": {},
   "outputs": [],
   "source": [
    "from sklearn.preprocessing import StandardScaler\n",
    "\n",
    "scaler = StandardScaler()"
   ]
  },
  {
   "cell_type": "code",
   "execution_count": 37,
   "id": "4f88d246",
   "metadata": {},
   "outputs": [],
   "source": [
    "# Standardize the GDP measure\n",
    "gdp_data_standardized_array = scaler.fit_transform(gdp_data)\n",
    "gdp_data_standardized = pd.DataFrame(gdp_data_standardized_array, index=gdp_data.index)"
   ]
  },
  {
   "cell_type": "code",
   "execution_count": 38,
   "id": "e4801c53",
   "metadata": {},
   "outputs": [
    {
     "data": {
      "application/vnd.microsoft.datawrangler.viewer.v0+json": {
       "columns": [
        {
         "name": "index",
         "rawType": "object",
         "type": "string"
        },
        {
         "name": "0",
         "rawType": "float64",
         "type": "float"
        }
       ],
       "ref": "913836e6-7a3c-4317-82cb-be1cd654c918",
       "rows": [
        [
         "count",
         "309.0"
        ],
        [
         "mean",
         "-1.8395928433918452e-16"
        ],
        [
         "std",
         "1.0016220610822992"
        ],
        [
         "min",
         "-0.9354963678975644"
        ],
        [
         "25%",
         "-0.8602481868954788"
        ],
        [
         "50%",
         "-0.3805130903643622"
        ],
        [
         "75%",
         "0.7097945681877978"
        ],
        [
         "max",
         "2.8202806491238817"
        ]
       ],
       "shape": {
        "columns": 1,
        "rows": 8
       }
      },
      "text/html": [
       "<div>\n",
       "<style scoped>\n",
       "    .dataframe tbody tr th:only-of-type {\n",
       "        vertical-align: middle;\n",
       "    }\n",
       "\n",
       "    .dataframe tbody tr th {\n",
       "        vertical-align: top;\n",
       "    }\n",
       "\n",
       "    .dataframe thead th {\n",
       "        text-align: right;\n",
       "    }\n",
       "</style>\n",
       "<table border=\"1\" class=\"dataframe\">\n",
       "  <thead>\n",
       "    <tr style=\"text-align: right;\">\n",
       "      <th></th>\n",
       "      <th>0</th>\n",
       "    </tr>\n",
       "  </thead>\n",
       "  <tbody>\n",
       "    <tr>\n",
       "      <th>count</th>\n",
       "      <td>3.090000e+02</td>\n",
       "    </tr>\n",
       "    <tr>\n",
       "      <th>mean</th>\n",
       "      <td>-1.839593e-16</td>\n",
       "    </tr>\n",
       "    <tr>\n",
       "      <th>std</th>\n",
       "      <td>1.001622e+00</td>\n",
       "    </tr>\n",
       "    <tr>\n",
       "      <th>min</th>\n",
       "      <td>-9.354964e-01</td>\n",
       "    </tr>\n",
       "    <tr>\n",
       "      <th>25%</th>\n",
       "      <td>-8.602482e-01</td>\n",
       "    </tr>\n",
       "    <tr>\n",
       "      <th>50%</th>\n",
       "      <td>-3.805131e-01</td>\n",
       "    </tr>\n",
       "    <tr>\n",
       "      <th>75%</th>\n",
       "      <td>7.097946e-01</td>\n",
       "    </tr>\n",
       "    <tr>\n",
       "      <th>max</th>\n",
       "      <td>2.820281e+00</td>\n",
       "    </tr>\n",
       "  </tbody>\n",
       "</table>\n",
       "</div>"
      ],
      "text/plain": [
       "                  0\n",
       "count  3.090000e+02\n",
       "mean  -1.839593e-16\n",
       "std    1.001622e+00\n",
       "min   -9.354964e-01\n",
       "25%   -8.602482e-01\n",
       "50%   -3.805131e-01\n",
       "75%    7.097946e-01\n",
       "max    2.820281e+00"
      ]
     },
     "execution_count": 38,
     "metadata": {},
     "output_type": "execute_result"
    }
   ],
   "source": [
    "# Check the dataframe to make sure the calculation worked as expected\n",
    "gdp_data_standardized.describe()"
   ]
  },
  {
   "cell_type": "markdown",
   "id": "1f1a89d2",
   "metadata": {},
   "source": [
    "## EDA: Plotting a time series of adjusted open vs close price\n",
    "\n",
    "As part of your EDA, you'll frequently want to plot two time series on the same graph and using the same axis to compare their movements. \n",
    "\n",
    "Your task:\n",
    "* Plot the Apple open and close price time series on the same chart **for the last three months only**. Be sure to use a legend to label each line\n",
    "\n",
    "**NOTE**: This is a large dataset. If you try to plot the entire series, your graph will be hard to interpret and may take a long time to plot. Be sure to use only the most recent three months of data. "
   ]
  },
  {
   "cell_type": "code",
   "execution_count": 39,
   "id": "9b490f9b",
   "metadata": {},
   "outputs": [
    {
     "data": {
      "text/plain": [
       "Timestamp('2024-05-03 00:00:00')"
      ]
     },
     "execution_count": 39,
     "metadata": {},
     "output_type": "execute_result"
    }
   ],
   "source": [
    "# Get max date in timeseries\n",
    "last_date = apple_prices.index.max()\n",
    "last_date"
   ]
  },
  {
   "cell_type": "code",
   "execution_count": 40,
   "id": "03b51a20",
   "metadata": {},
   "outputs": [],
   "source": [
    "# Use the max date calculated above to get the last three months of data in the dataset\n",
    "start_date = last_date - pd.DateOffset(months=3)\n",
    "apple_prices_three_months = apple_prices.loc[start_date:].copy()"
   ]
  },
  {
   "cell_type": "code",
   "execution_count": 41,
   "id": "6883e68a",
   "metadata": {},
   "outputs": [
    {
     "data": {
      "application/vnd.microsoft.datawrangler.viewer.v0+json": {
       "columns": [
        {
         "name": "Date",
         "rawType": "datetime64[ns]",
         "type": "datetime"
        },
        {
         "name": "Close",
         "rawType": "float64",
         "type": "float"
        },
        {
         "name": "Volume",
         "rawType": "int64",
         "type": "integer"
        },
        {
         "name": "Open",
         "rawType": "float64",
         "type": "float"
        },
        {
         "name": "High",
         "rawType": "float64",
         "type": "float"
        },
        {
         "name": "Low",
         "rawType": "float64",
         "type": "float"
        }
       ],
       "ref": "f9f85d07-0cd0-415f-bab5-0a8718c039be",
       "rows": [
        [
         "2024-02-05 00:00:00",
         "187.68",
         "69668820",
         "188.15",
         "189.25",
         "185.84"
        ],
        [
         "2024-02-06 00:00:00",
         "189.3",
         "43490760",
         "186.86",
         "189.31",
         "186.77"
        ],
        [
         "2024-02-07 00:00:00",
         "189.41",
         "53438960",
         "190.64",
         "191.05",
         "188.61"
        ],
        [
         "2024-02-08 00:00:00",
         "188.32",
         "40962050",
         "189.39",
         "189.54",
         "187.35"
        ],
        [
         "2024-02-09 00:00:00",
         "188.85",
         "45155220",
         "188.65",
         "189.99",
         "188.0"
        ]
       ],
       "shape": {
        "columns": 5,
        "rows": 5
       }
      },
      "text/html": [
       "<div>\n",
       "<style scoped>\n",
       "    .dataframe tbody tr th:only-of-type {\n",
       "        vertical-align: middle;\n",
       "    }\n",
       "\n",
       "    .dataframe tbody tr th {\n",
       "        vertical-align: top;\n",
       "    }\n",
       "\n",
       "    .dataframe thead th {\n",
       "        text-align: right;\n",
       "    }\n",
       "</style>\n",
       "<table border=\"1\" class=\"dataframe\">\n",
       "  <thead>\n",
       "    <tr style=\"text-align: right;\">\n",
       "      <th></th>\n",
       "      <th>Close</th>\n",
       "      <th>Volume</th>\n",
       "      <th>Open</th>\n",
       "      <th>High</th>\n",
       "      <th>Low</th>\n",
       "    </tr>\n",
       "    <tr>\n",
       "      <th>Date</th>\n",
       "      <th></th>\n",
       "      <th></th>\n",
       "      <th></th>\n",
       "      <th></th>\n",
       "      <th></th>\n",
       "    </tr>\n",
       "  </thead>\n",
       "  <tbody>\n",
       "    <tr>\n",
       "      <th>2024-02-05</th>\n",
       "      <td>187.68</td>\n",
       "      <td>69668820</td>\n",
       "      <td>188.15</td>\n",
       "      <td>189.25</td>\n",
       "      <td>185.84</td>\n",
       "    </tr>\n",
       "    <tr>\n",
       "      <th>2024-02-06</th>\n",
       "      <td>189.30</td>\n",
       "      <td>43490760</td>\n",
       "      <td>186.86</td>\n",
       "      <td>189.31</td>\n",
       "      <td>186.77</td>\n",
       "    </tr>\n",
       "    <tr>\n",
       "      <th>2024-02-07</th>\n",
       "      <td>189.41</td>\n",
       "      <td>53438960</td>\n",
       "      <td>190.64</td>\n",
       "      <td>191.05</td>\n",
       "      <td>188.61</td>\n",
       "    </tr>\n",
       "    <tr>\n",
       "      <th>2024-02-08</th>\n",
       "      <td>188.32</td>\n",
       "      <td>40962050</td>\n",
       "      <td>189.39</td>\n",
       "      <td>189.54</td>\n",
       "      <td>187.35</td>\n",
       "    </tr>\n",
       "    <tr>\n",
       "      <th>2024-02-09</th>\n",
       "      <td>188.85</td>\n",
       "      <td>45155220</td>\n",
       "      <td>188.65</td>\n",
       "      <td>189.99</td>\n",
       "      <td>188.00</td>\n",
       "    </tr>\n",
       "  </tbody>\n",
       "</table>\n",
       "</div>"
      ],
      "text/plain": [
       "             Close    Volume    Open    High     Low\n",
       "Date                                                \n",
       "2024-02-05  187.68  69668820  188.15  189.25  185.84\n",
       "2024-02-06  189.30  43490760  186.86  189.31  186.77\n",
       "2024-02-07  189.41  53438960  190.64  191.05  188.61\n",
       "2024-02-08  188.32  40962050  189.39  189.54  187.35\n",
       "2024-02-09  188.85  45155220  188.65  189.99  188.00"
      ]
     },
     "execution_count": 41,
     "metadata": {},
     "output_type": "execute_result"
    }
   ],
   "source": [
    "apple_prices_three_months.head()"
   ]
  },
  {
   "cell_type": "code",
   "execution_count": 42,
   "id": "a9ae53e2",
   "metadata": {},
   "outputs": [
    {
     "name": "stdout",
     "output_type": "stream",
     "text": [
      "<class 'pandas.core.frame.DataFrame'>\n",
      "DatetimeIndex: 2517 entries, 2014-05-06 to 2024-05-03\n",
      "Data columns (total 5 columns):\n",
      " #   Column  Non-Null Count  Dtype  \n",
      "---  ------  --------------  -----  \n",
      " 0   Close   2517 non-null   float64\n",
      " 1   Volume  2517 non-null   int64  \n",
      " 2   Open    2517 non-null   float64\n",
      " 3   High    2517 non-null   float64\n",
      " 4   Low     2517 non-null   float64\n",
      "dtypes: float64(4), int64(1)\n",
      "memory usage: 182.5 KB\n"
     ]
    }
   ],
   "source": [
    "apple_prices.info()"
   ]
  },
  {
   "cell_type": "code",
   "execution_count": 43,
   "id": "039404e1",
   "metadata": {},
   "outputs": [
    {
     "data": {
      "text/plain": [
       "Text(0, 0.5, 'Price')"
      ]
     },
     "execution_count": 43,
     "metadata": {},
     "output_type": "execute_result"
    },
    {
     "data": {
      "image/png": "[encoded data removed]",
      "text/plain": [
       "<Figure size 1400x700 with 1 Axes>"
      ]
     },
     "metadata": {},
     "output_type": "display_data"
    }
   ],
   "source": [
    "# Plot time series of open v. close stock price for Apple using the last 3 months of data\n",
    "\n",
    "plt.figure(figsize=(14, 7))\n",
    "\n",
    "line_plot = sns.lineplot(data=apple_prices_three_months[[\"Open\", \"Close\"]])\n",
    "\n",
    "line_plot.set_title(\"Open vs Close Price\")\n",
    "line_plot.set_xlabel(\"Date\", fontsize=12)\n",
    "line_plot.set_ylabel(\"Price\", fontsize=12)"
   ]
  },
  {
   "cell_type": "markdown",
   "id": "bc0070c6",
   "metadata": {},
   "source": [
    "## EDA: Plotting a histogram of a stock's closing price in the last three months\n",
    "\n",
    "One way to see how much a stock's price generally moves is to plot the frequency of closing prices over a set time period. \n",
    "\n",
    "Your task:\n",
    "* Use the **last three months** of Apple stock data and plot a histogram of closing price"
   ]
  },
  {
   "cell_type": "code",
   "execution_count": null,
   "id": "b48760fd",
   "metadata": {},
   "outputs": [
    {
     "data": {
      "image/png": "[encoded data removed]",
      "text/plain": [
       "<Figure size 640x480 with 1 Axes>"
      ]
     },
     "metadata": {},
     "output_type": "display_data"
    }
   ],
   "source": [
    "# Plot the histogram of Apple's closing price over the last 3 months\n",
    "\n",
    "apple_hist = sns.histplot(apple_prices_three_months[\"Close\"])"
   ]
  },
  {
   "cell_type": "markdown",
   "id": "01e1b22c",
   "metadata": {},
   "source": [
    "## Calculating correlation between a stock price and a macroeconomic variable \n",
    "\n",
    "Inflation affects the purchasing power of money and can influence corporate profits, interest rates, and consumer behavior. By analyzing the correlation between stock prices and inflation, one can gauge how inflationary trends impact stock market performance. For instance, high inflation might erode profit margins and reduce stock prices, while moderate inflation might indicate a growing economy, benefiting stocks.\n",
    "\n",
    "Your task:\n",
    "* Plot a heatmap that shows the correlation between Microsoft and Apple returns and inflation \n",
    "\n",
    "This will require several steps:\n",
    "1. Calculate the returns for Apple and Microsoft and the change in monthly inflation (use the `pct_change` method for each)\n",
    "2. Interpolate the daily stock returns data to monthly so it can be compared to the monthly inflation data\n",
    "3. Merge the stock returns (Apple and Microsoft) and inflation data series into a single dataframe\n",
    "4. Calculate the correlation matrix between the Apple returns, Microsoft returns, and inflation change\n",
    "5. Plot the correlation matrix as a heatmap"
   ]
  },
  {
   "cell_type": "markdown",
   "id": "c38842ed",
   "metadata": {},
   "source": [
    "### 1. Calculate returns for Microsoft / Apple and the monthly change in inflation"
   ]
  },
  {
   "cell_type": "code",
   "execution_count": null,
   "id": "a112dc12",
   "metadata": {},
   "outputs": [
    {
     "data": {
      "application/vnd.microsoft.datawrangler.viewer.v0+json": {
       "columns": [
        {
         "name": "DATE",
         "rawType": "datetime64[ns]",
         "type": "datetime"
        },
        {
         "name": "Infl RoC",
         "rawType": "float64",
         "type": "float"
        }
       ],
       "ref": "4d6f024d-3dd9-41ef-937b-45e665b85aec",
       "rows": [
        [
         "1968-02-29 00:00:00",
         "0.0060129207106254245"
        ],
        [
         "1968-03-31 00:00:00",
         "0.12748165100268705"
        ],
        [
         "1968-04-30 00:00:00",
         "0.003298787803300396"
        ],
        [
         "1968-05-31 00:00:00",
         "-0.016262139928576613"
        ],
        [
         "1968-06-30 00:00:00",
         "0.11186312491443484"
        ],
        [
         "1968-07-31 00:00:00",
         "0.04565038417837619"
        ],
        [
         "1968-08-31 00:00:00",
         "0.04071684366094175"
        ],
        [
         "1968-09-30 00:00:00",
         "0.000331617032169218"
        ],
        [
         "1968-10-31 00:00:00",
         "0.047359270665862985"
        ],
        [
         "1968-11-30 00:00:00",
         "0.04183149715132317"
        ],
        [
         "1968-12-31 00:00:00",
         "0.056850869428840545"
        ],
        [
         "1969-01-31 00:00:00",
         "0.006983296338810341"
        ],
        [
         "1969-02-28 00:00:00",
         "0.0006541909415067604"
        ],
        [
         "1969-03-31 00:00:00",
         "0.06525298165186633"
        ],
        [
         "1969-04-30 00:00:00",
         "0.06211473751033436"
        ],
        [
         "1969-05-31 00:00:00",
         "0.04227322456629379"
        ],
        [
         "1969-06-30 00:00:00",
         "-0.05967996068681458"
        ],
        [
         "1969-07-31 00:00:00",
         "0.0020863687148846566"
        ],
        [
         "1969-08-31 00:00:00",
         "0.003987604608806095"
        ],
        [
         "1969-09-30 00:00:00",
         "0.06547597806568839"
        ],
        [
         "1969-10-31 00:00:00",
         "-0.04018459043975042"
        ],
        [
         "1969-11-30 00:00:00",
         "-0.0187063737559513"
        ],
        [
         "1969-12-31 00:00:00",
         "-0.005472205982916867"
        ],
        [
         "1970-01-31 00:00:00",
         "0.0297096749949326"
        ],
        [
         "1970-02-28 00:00:00",
         "0.0699954511078813"
        ],
        [
         "1970-03-31 00:00:00",
         "-0.008606673422587363"
        ],
        [
         "1970-04-30 00:00:00",
         "-0.025061576005452557"
        ],
        [
         "1970-05-31 00:00:00",
         "0.01905246440984243"
        ],
        [
         "1970-06-30 00:00:00",
         "0.02939664810297149"
        ],
        [
         "1970-07-31 00:00:00",
         "-0.020148165666562523"
        ],
        [
         "1970-08-31 00:00:00",
         "0.015268052693634626"
        ],
        [
         "1970-09-30 00:00:00",
         "-0.004723801728789501"
        ],
        [
         "1970-10-31 00:00:00",
         "-0.0033362387288662365"
        ],
        [
         "1970-11-30 00:00:00",
         "0.038253846293231586"
        ],
        [
         "1970-12-31 00:00:00",
         "0.002055405966528534"
        ],
        [
         "1971-01-31 00:00:00",
         "-0.044646263768698735"
        ],
        [
         "1971-02-28 00:00:00",
         "-0.09768594486556526"
        ],
        [
         "1971-03-31 00:00:00",
         "-0.1308132990521651"
        ],
        [
         "1971-04-30 00:00:00",
         "-0.03550919282338527"
        ],
        [
         "1971-05-31 00:00:00",
         "-0.04635505680925056"
        ],
        [
         "1971-06-30 00:00:00",
         "0.035357824266250226"
        ],
        [
         "1971-07-31 00:00:00",
         "-0.014153975460382995"
        ],
        [
         "1971-08-31 00:00:00",
         "-0.04867787697654813"
        ],
        [
         "1971-09-30 00:00:00",
         "-0.04909526238979456"
        ],
        [
         "1971-10-31 00:00:00",
         "-0.06331000024623823"
        ],
        [
         "1971-11-30 00:00:00",
         "-0.09674746574234128"
        ],
        [
         "1971-12-31 00:00:00",
         "-0.06979125959902333"
        ],
        [
         "1972-01-31 00:00:00",
         "0.01387505465012473"
        ],
        [
         "1972-02-29 00:00:00",
         "0.03036855701748431"
        ],
        [
         "1972-03-31 00:00:00",
         "0.05633557694971847"
        ]
       ],
       "shape": {
        "columns": 1,
        "rows": 674
       }
      },
      "text/plain": [
       "DATE\n",
       "1968-02-29    0.006013\n",
       "1968-03-31    0.127482\n",
       "1968-04-30    0.003299\n",
       "1968-05-31   -0.016262\n",
       "1968-06-30    0.111863\n",
       "                ...   \n",
       "2023-11-30   -0.039860\n",
       "2023-12-31   -0.028560\n",
       "2024-01-31    0.010874\n",
       "2024-02-29   -0.043619\n",
       "2024-03-31    0.024099\n",
       "Name: Infl RoC, Length: 674, dtype: float64"
      ]
     },
     "execution_count": 45,
     "metadata": {},
     "output_type": "execute_result"
    }
   ],
   "source": [
    "# Calculate daily returns for Apple and Microsoft and the percent change in inflation from month to month\n",
    "\n",
    "apple_return_daily = apple_prices[\"Close\"].pct_change().dropna()\n",
    "apple_return_daily.rename(\"AAPL RoC\", inplace=True)\n",
    "microsoft_return_daily = microsoft_prices[\"Close\"].pct_change().dropna()\n",
    "microsoft_return_daily.rename(\"MSFT RoC\", inplace=True)\n",
    "inflation_changes_monthly = inflation_data[\"CORESTICKM159SFRBATL\"].pct_change().dropna()\n",
    "inflation_changes_monthly.rename(\"Infl RoC\", inplace=True)\n"
   ]
  },
  {
   "cell_type": "markdown",
   "id": "c8aa1b91",
   "metadata": {},
   "source": [
    "### 2. Interpolate stock returns from daily to monthly"
   ]
  },
  {
   "cell_type": "code",
   "execution_count": null,
   "id": "9300a530",
   "metadata": {},
   "outputs": [],
   "source": [
    "apple_returns_monthly = (1 + apple_return_daily).resample(\"ME\").prod() - 1\n",
    "microsoft_returns_monthly = (1 + microsoft_return_daily).resample(\"ME\").prod() - 1\n"
   ]
  },
  {
   "cell_type": "markdown",
   "id": "268272e6",
   "metadata": {},
   "source": [
    "### 3. Merge the dataframes and calculate / plot the correlation"
   ]
  },
  {
   "cell_type": "code",
   "execution_count": null,
   "id": "0defb97b",
   "metadata": {},
   "outputs": [
    {
     "data": {
      "application/vnd.microsoft.datawrangler.viewer.v0+json": {
       "columns": [
        {
         "name": "index",
         "rawType": "datetime64[ns]",
         "type": "datetime"
        },
        {
         "name": "AAPL RoC",
         "rawType": "float64",
         "type": "float"
        },
        {
         "name": "MSFT RoC",
         "rawType": "float64",
         "type": "float"
        },
        {
         "name": "Infl RoC",
         "rawType": "float64",
         "type": "float"
        }
       ],
       "ref": "910682de-3666-4f57-b4a4-5e6e9087493d",
       "rows": [
        [
         "2014-05-31 00:00:00",
         "0.06500235515779518",
         "0.04813108038914371",
         "0.05025067580776055"
        ],
        [
         "2014-06-30 00:00:00",
         "0.02742149491375523",
         "0.018563751831949693",
         "0.0071472955810480965"
        ],
        [
         "2014-07-31 00:00:00",
         "0.028842014636245805",
         "0.03501199040767311",
         "-0.020723620960982236"
        ],
        [
         "2014-08-31 00:00:00",
         "0.07238493723849304",
         "0.05259499536607959",
         "-0.06638742726916169"
        ],
        [
         "2014-09-30 00:00:00",
         "-0.01716738197424883",
         "0.020471054369359365",
         "-0.004516040442732239"
        ],
        [
         "2014-10-31 00:00:00",
         "0.07185391028185761",
         "0.012726488352027943",
         "0.02630180958583117"
        ],
        [
         "2014-11-30 00:00:00",
         "0.10111111111111093",
         "0.01831735889243835",
         "-0.0011571535421840418"
        ],
        [
         "2014-12-31 00:00:00",
         "-0.07164480322906153",
         "-0.028445931813427805",
         "-0.01896859010367924"
        ],
        [
         "2015-01-31 00:00:00",
         "0.06123188405797131",
         "-0.13024757804090425",
         "0.007719151184004236"
        ],
        [
         "2015-02-28 00:00:00",
         "0.09662000682826899",
         "0.08539603960396125",
         "-0.0019470087762127886"
        ],
        [
         "2015-03-31 00:00:00",
         "-0.031444582814445954",
         "-0.07286202964652233",
         "0.008663550174725865"
        ],
        [
         "2015-04-30 00:00:00",
         "0.005785920925747368",
         "0.19640880580494424",
         "0.03221944445282143"
        ],
        [
         "2015-05-31 00:00:00",
         "0.04090763822307397",
         "-0.036595394736842146",
         "0.0013882193688494748"
        ],
        [
         "2015-06-30 00:00:00",
         "-0.03715075222597475",
         "-0.05783183952198023",
         "0.02293683484224407"
        ],
        [
         "2015-07-31 00:00:00",
         "-0.03284438775510179",
         "0.057757644394110574",
         "0.012712170561649527"
        ],
        [
         "2015-08-31 00:00:00",
         "-0.0705572040883613",
         "-0.06809421841541752",
         "0.018179983337049288"
        ],
        [
         "2015-09-30 00:00:00",
         "-0.021638879035119296",
         "0.017003676470587648",
         "0.04579046628560568"
        ],
        [
         "2015-10-31 00:00:00",
         "0.08339376359680961",
         "0.1893357433348397",
         "0.02951507051243607"
        ],
        [
         "2015-11-30 00:00:00",
         "-0.010040160642570517",
         "0.03248480243161089",
         "0.025319290325122035"
        ],
        [
         "2015-12-31 00:00:00",
         "-0.11020960108181199",
         "0.02079116835326511",
         "0.017903429555776063"
        ],
        [
         "2016-01-31 00:00:00",
         "-0.0752279635258356",
         "-0.007029560201874618",
         "0.009592627190925684"
        ],
        [
         "2016-02-29 00:00:00",
         "-0.0069843878389480585",
         "-0.07642040297694708",
         "0.03144161090407138"
        ],
        [
         "2016-03-31 00:00:00",
         "0.12743069921390116",
         "0.08549528301886822",
         "-0.004743026010409546"
        ],
        [
         "2016-04-30 00:00:00",
         "-0.13981651376146764",
         "-0.09704870541372423",
         "0.002064749858879722"
        ],
        [
         "2016-05-31 00:00:00",
         "0.06527303754266178",
         "0.06276318427912586",
         "0.013529112003887178"
        ],
        [
         "2016-06-30 00:00:00",
         "-0.0428514217060475",
         "-0.034528301886792345",
         "-0.0007986193123220575"
        ],
        [
         "2016-07-31 00:00:00",
         "0.08995815899581627",
         "0.10768028141489139",
         "0.0023505741275355874"
        ],
        [
         "2016-08-31 00:00:00",
         "0.018426103646832948",
         "0.013761467889907397",
         "0.05708626255275506"
        ],
        [
         "2016-09-30 00:00:00",
         "0.06520919713531903",
         "0.002436477549599525",
         "-0.03370261605015856"
        ],
        [
         "2016-10-31 00:00:00",
         "0.00460014154281696",
         "0.04027777777777719",
         "-0.0466820507017871"
        ],
        [
         "2016-11-30 00:00:00",
         "-0.026769989432898655",
         "0.005674232309745841",
         "0.006512491867378012"
        ],
        [
         "2016-12-31 00:00:00",
         "0.048136083966703325",
         "0.03119814138732191",
         "0.02649208040772444"
        ],
        [
         "2017-01-31 00:00:00",
         "0.047651933701657656",
         "0.0403926617315733",
         "0.025704312791698936"
        ],
        [
         "2017-02-28 00:00:00",
         "0.1288727752142389",
         "-0.010363495746326334",
         "0.004837203058068784"
        ],
        [
         "2017-03-31 00:00:00",
         "0.048759124087590866",
         "0.029384182557048444",
         "-0.08555989981107615"
        ],
        [
         "2017-04-30 00:00:00",
         "-0.00027839643652527446",
         "0.03947767992711815",
         "-0.08245717573687117"
        ],
        [
         "2017-05-31 00:00:00",
         "0.06349206349206327",
         "0.020157756354075573",
         "-0.042957106409169166"
        ],
        [
         "2017-06-30 00:00:00",
         "-0.05708300602251848",
         "-0.013029782359679443",
         "-0.008190653167784778"
        ],
        [
         "2017-07-31 00:00:00",
         "0.032490974729241895",
         "0.054693166980995134",
         "0.004555845152157678"
        ],
        [
         "2017-08-31 00:00:00",
         "0.10274341043571833",
         "0.0284731774415401",
         "-0.026611601494903048"
        ],
        [
         "2017-09-30 00:00:00",
         "-0.06024390243902389",
         "-0.0037448174401496503",
         "0.007858617178309713"
        ],
        [
         "2017-10-31 00:00:00",
         "0.09680768232546022",
         "0.1166599543562894",
         "0.04123022692475797"
        ],
        [
         "2017-11-30 00:00:00",
         "0.016564126833885418",
         "0.011901899495071255",
         "-0.035717615096751865"
        ],
        [
         "2017-12-31 00:00:00",
         "-0.01513035381750416",
         "0.016276583105619746",
         "0.008278395639971903"
        ],
        [
         "2018-01-31 00:00:00",
         "-0.010635783502717433",
         "0.11070844049567441",
         "0.019193873377209236"
        ],
        [
         "2018-02-28 00:00:00",
         "0.0637840420449114",
         "-0.013051257762340951",
         "-0.016091217861705975"
        ],
        [
         "2018-03-31 00:00:00",
         "-0.05793846844823669",
         "-0.026660978991148387",
         "0.11484333529116131"
        ],
        [
         "2018-04-30 00:00:00",
         "-0.01501787842669855",
         "0.02465213103977293",
         "0.05267044794406228"
        ],
        [
         "2018-05-31 00:00:00",
         "0.1306873184898354",
         "0.05688622754491046",
         "0.02071767769361932"
        ],
        [
         "2018-06-30 00:00:00",
         "-0.009417808219177592",
         "-0.0023269931201936878",
         "0.0034149728768186893"
        ]
       ],
       "shape": {
        "columns": 3,
        "rows": 119
       }
      },
      "text/html": [
       "<div>\n",
       "<style scoped>\n",
       "    .dataframe tbody tr th:only-of-type {\n",
       "        vertical-align: middle;\n",
       "    }\n",
       "\n",
       "    .dataframe tbody tr th {\n",
       "        vertical-align: top;\n",
       "    }\n",
       "\n",
       "    .dataframe thead th {\n",
       "        text-align: right;\n",
       "    }\n",
       "</style>\n",
       "<table border=\"1\" class=\"dataframe\">\n",
       "  <thead>\n",
       "    <tr style=\"text-align: right;\">\n",
       "      <th></th>\n",
       "      <th>AAPL RoC</th>\n",
       "      <th>MSFT RoC</th>\n",
       "      <th>Infl RoC</th>\n",
       "    </tr>\n",
       "  </thead>\n",
       "  <tbody>\n",
       "    <tr>\n",
       "      <th>2014-05-31</th>\n",
       "      <td>0.065002</td>\n",
       "      <td>0.048131</td>\n",
       "      <td>0.050251</td>\n",
       "    </tr>\n",
       "    <tr>\n",
       "      <th>2014-06-30</th>\n",
       "      <td>0.027421</td>\n",
       "      <td>0.018564</td>\n",
       "      <td>0.007147</td>\n",
       "    </tr>\n",
       "    <tr>\n",
       "      <th>2014-07-31</th>\n",
       "      <td>0.028842</td>\n",
       "      <td>0.035012</td>\n",
       "      <td>-0.020724</td>\n",
       "    </tr>\n",
       "    <tr>\n",
       "      <th>2014-08-31</th>\n",
       "      <td>0.072385</td>\n",
       "      <td>0.052595</td>\n",
       "      <td>-0.066387</td>\n",
       "    </tr>\n",
       "    <tr>\n",
       "      <th>2014-09-30</th>\n",
       "      <td>-0.017167</td>\n",
       "      <td>0.020471</td>\n",
       "      <td>-0.004516</td>\n",
       "    </tr>\n",
       "    <tr>\n",
       "      <th>...</th>\n",
       "      <td>...</td>\n",
       "      <td>...</td>\n",
       "      <td>...</td>\n",
       "    </tr>\n",
       "    <tr>\n",
       "      <th>2023-11-30</th>\n",
       "      <td>0.112315</td>\n",
       "      <td>0.120671</td>\n",
       "      <td>-0.039860</td>\n",
       "    </tr>\n",
       "    <tr>\n",
       "      <th>2023-12-31</th>\n",
       "      <td>0.013583</td>\n",
       "      <td>-0.007574</td>\n",
       "      <td>-0.028560</td>\n",
       "    </tr>\n",
       "    <tr>\n",
       "      <th>2024-01-31</th>\n",
       "      <td>-0.042227</td>\n",
       "      <td>0.057281</td>\n",
       "      <td>0.010874</td>\n",
       "    </tr>\n",
       "    <tr>\n",
       "      <th>2024-02-29</th>\n",
       "      <td>-0.019794</td>\n",
       "      <td>0.040394</td>\n",
       "      <td>-0.043619</td>\n",
       "    </tr>\n",
       "    <tr>\n",
       "      <th>2024-03-31</th>\n",
       "      <td>-0.051286</td>\n",
       "      <td>0.017116</td>\n",
       "      <td>0.024099</td>\n",
       "    </tr>\n",
       "  </tbody>\n",
       "</table>\n",
       "<p>119 rows × 3 columns</p>\n",
       "</div>"
      ],
      "text/plain": [
       "            AAPL RoC  MSFT RoC  Infl RoC\n",
       "2014-05-31  0.065002  0.048131  0.050251\n",
       "2014-06-30  0.027421  0.018564  0.007147\n",
       "2014-07-31  0.028842  0.035012 -0.020724\n",
       "2014-08-31  0.072385  0.052595 -0.066387\n",
       "2014-09-30 -0.017167  0.020471 -0.004516\n",
       "...              ...       ...       ...\n",
       "2023-11-30  0.112315  0.120671 -0.039860\n",
       "2023-12-31  0.013583 -0.007574 -0.028560\n",
       "2024-01-31 -0.042227  0.057281  0.010874\n",
       "2024-02-29 -0.019794  0.040394 -0.043619\n",
       "2024-03-31 -0.051286  0.017116  0.024099\n",
       "\n",
       "[119 rows x 3 columns]"
      ]
     },
     "execution_count": 47,
     "metadata": {},
     "output_type": "execute_result"
    }
   ],
   "source": [
    "monthly_data = pd.concat([apple_returns_monthly, microsoft_returns_monthly, inflation_changes_monthly], axis=1, join=\"inner\")\n",
    "monthly_data"
   ]
  },
  {
   "cell_type": "markdown",
   "id": "e1352272",
   "metadata": {},
   "source": [
    "### 4. Calculate the correlation matrix between the Apple returns, Microsoft returns, and inflation change"
   ]
  },
  {
   "cell_type": "code",
   "execution_count": 48,
   "id": "8176f9ff",
   "metadata": {},
   "outputs": [
    {
     "data": {
      "application/vnd.microsoft.datawrangler.viewer.v0+json": {
       "columns": [
        {
         "name": "index",
         "rawType": "object",
         "type": "string"
        },
        {
         "name": "AAPL RoC",
         "rawType": "float64",
         "type": "float"
        },
        {
         "name": "MSFT RoC",
         "rawType": "float64",
         "type": "float"
        },
        {
         "name": "Infl RoC",
         "rawType": "float64",
         "type": "float"
        }
       ],
       "ref": "7f55ae22-a18c-4ca5-aa41-9f2572fead31",
       "rows": [
        [
         "AAPL RoC",
         "1.0",
         "0.5882369512477528",
         "-0.07469865304419436"
        ],
        [
         "MSFT RoC",
         "0.5882369512477528",
         "1.0",
         "-0.07017581648356858"
        ],
        [
         "Infl RoC",
         "-0.07469865304419436",
         "-0.07017581648356858",
         "1.0"
        ]
       ],
       "shape": {
        "columns": 3,
        "rows": 3
       }
      },
      "text/html": [
       "<div>\n",
       "<style scoped>\n",
       "    .dataframe tbody tr th:only-of-type {\n",
       "        vertical-align: middle;\n",
       "    }\n",
       "\n",
       "    .dataframe tbody tr th {\n",
       "        vertical-align: top;\n",
       "    }\n",
       "\n",
       "    .dataframe thead th {\n",
       "        text-align: right;\n",
       "    }\n",
       "</style>\n",
       "<table border=\"1\" class=\"dataframe\">\n",
       "  <thead>\n",
       "    <tr style=\"text-align: right;\">\n",
       "      <th></th>\n",
       "      <th>AAPL RoC</th>\n",
       "      <th>MSFT RoC</th>\n",
       "      <th>Infl RoC</th>\n",
       "    </tr>\n",
       "  </thead>\n",
       "  <tbody>\n",
       "    <tr>\n",
       "      <th>AAPL RoC</th>\n",
       "      <td>1.000000</td>\n",
       "      <td>0.588237</td>\n",
       "      <td>-0.074699</td>\n",
       "    </tr>\n",
       "    <tr>\n",
       "      <th>MSFT RoC</th>\n",
       "      <td>0.588237</td>\n",
       "      <td>1.000000</td>\n",
       "      <td>-0.070176</td>\n",
       "    </tr>\n",
       "    <tr>\n",
       "      <th>Infl RoC</th>\n",
       "      <td>-0.074699</td>\n",
       "      <td>-0.070176</td>\n",
       "      <td>1.000000</td>\n",
       "    </tr>\n",
       "  </tbody>\n",
       "</table>\n",
       "</div>"
      ],
      "text/plain": [
       "          AAPL RoC  MSFT RoC  Infl RoC\n",
       "AAPL RoC  1.000000  0.588237 -0.074699\n",
       "MSFT RoC  0.588237  1.000000 -0.070176\n",
       "Infl RoC -0.074699 -0.070176  1.000000"
      ]
     },
     "execution_count": 48,
     "metadata": {},
     "output_type": "execute_result"
    }
   ],
   "source": [
    "# Calculate correlation matrix\n",
    "\n",
    "corrleation_matrix = monthly_data.corr()\n",
    "corrleation_matrix"
   ]
  },
  {
   "cell_type": "markdown",
   "id": "43b0ac07",
   "metadata": {},
   "source": [
    "### 5. Plot the correlation matrix as a heatmap "
   ]
  },
  {
   "cell_type": "code",
   "execution_count": null,
   "id": "0f731a65",
   "metadata": {},
   "outputs": [
    {
     "data": {
      "text/plain": [
       "Text(0.5, 1.0, 'Correlation Matrix of Stock Returns and Inflation')"
      ]
     },
     "execution_count": 49,
     "metadata": {},
     "output_type": "execute_result"
    },
    {
     "data": {
      "image/png": "[encoded data removed]",
      "text/plain": [
       "<Figure size 800x600 with 2 Axes>"
      ]
     },
     "metadata": {},
     "output_type": "display_data"
    }
   ],
   "source": [
    "# Plot heatmap\n",
    "\n",
    "plt.figure(figsize=(8, 6))\n",
    "heatmap = sns.heatmap(corrleation_matrix, annot=True, cmap=\"coolwarm\", fmt=\".2f\", linewidths=0.5)\n",
    "heatmap.set_title(\"Correlation Matrix of Stock Returns and Inflation\", pad=12)"
   ]
  },
  {
   "cell_type": "markdown",
   "id": "624a2410",
   "metadata": {},
   "source": [
    "## Calculating rolling volatility (standard deviation) of a stock's price for last 3 months\n",
    "\n",
    "Volatility is a measure of the dispersion of returns for a given security. By calculating rolling volatility, investors can assess the risk associated with a stock over time: Higher volatility indicates higher risk, as the stock's price is more likely to experience significant fluctuations. In portfolio optimization, understanding the volatility of individual stocks and how it changes over time is crucial for diversification and optimization. By analyzing rolling volatility, investors can adjust their portfolios to maintain a desired risk level, potentially improving the risk-return profile.\n",
    "\n",
    "One possible way to calculate volatility is by using the standard deviation of returns for a stock over time.\n",
    "\n",
    "Your task:\n",
    "* Calculate the weekly rolling standard deviation for Apple's closing price\n",
    "* Plot the calculated rolling weekly volatility of Apple's closing price against Apple's closing price. Plot these **on the same chart, but using different y-axes**\n",
    "\n",
    "Helpful hints:\n",
    "* You'll need to use the `pandas` `rolling()` method with a given `window_size` parameter to make it a _weekly_ rolling calculation\n",
    "* Use **only the last three months of data**; data much older than this may not be as useful for portfolio optimization\n",
    "* You'll need to create two axes on the matplotlib figure to be able to use two different y-axes (one for the closing price and one for the rolling volatility calculated here)"
   ]
  },
  {
   "cell_type": "code",
   "execution_count": 51,
   "id": "4da9eb94",
   "metadata": {},
   "outputs": [],
   "source": [
    "# Define the window size for the rolling calculation (e.g., one week)\n",
    "window_size = 5"
   ]
  },
  {
   "cell_type": "code",
   "execution_count": null,
   "id": "2c5142b4",
   "metadata": {},
   "outputs": [],
   "source": [
    "# Calculate rolling one-week volatility\n",
    "apple_returns_daily_three_months = apple_prices_three_months[\"Close\"].pct_change().dropna()\n",
    "apple_prices_three_months[\"weekly_std_dev\"] = apple_returns_daily_three_months.rolling(window=5).std()\n"
   ]
  },
  {
   "cell_type": "code",
   "execution_count": null,
   "id": "92a9c0b8",
   "metadata": {},
   "outputs": [
    {
     "data": {
      "text/plain": [
       "Text(0.5, 0.98, 'Apple Stock Price & Weekly Volatility')"
      ]
     },
     "execution_count": 57,
     "metadata": {},
     "output_type": "execute_result"
    },
    {
     "data": {
      "image/png": "[encoded data removed]",
      "text/plain": [
       "<Figure size 1000x600 with 2 Axes>"
      ]
     },
     "metadata": {},
     "output_type": "display_data"
    }
   ],
   "source": [
    "# Plot the calculated rolling weekly volatility of Apple's closing price against Apple's closing price\n",
    "# Plot these on the same chart, but using different y-axes\n",
    "\n",
    "\n",
    "fig, ax1 = plt.subplots(figsize=(10, 6))\n",
    "\n",
    "ax1.plot(apple_prices_three_months[\"Close\"], label=\"Price\")\n",
    "ax1.set_xlabel(\"Date\")\n",
    "ax1.set_ylabel(\"Close Price\")\n",
    "ax1.grid(True)\n",
    "\n",
    "ax2 = ax1.twinx()\n",
    "ax2.plot(apple_prices_three_months[\"weekly_std_dev\"], color=\"orange\", linestyle=\"--\", alpha=0.3, label=\"Weekly Vol\")\n",
    "ax2.set_ylabel(\"Weekly Vol\")\n",
    "\n",
    "fig.legend()\n",
    "fig.suptitle(\"Apple Stock Price & Weekly Volatility\")\n"
   ]
  },
  {
   "cell_type": "markdown",
   "id": "e2cf3c78",
   "metadata": {},
   "source": [
    "## Export data\n",
    "\n",
    "Now that you have preprocessed your data, you should save it in new csv files so that it can be used in downstream tasks without having to redo all the preprocessing steps. \n",
    "\n",
    "Your task:\n",
    "* Use `pandas` to export all modified datasets back to new CSV files"
   ]
  },
  {
   "cell_type": "code",
   "execution_count": null,
   "id": "3d67d29c",
   "metadata": {},
   "outputs": [],
   "source": [
    "path = \"./exported_data\"\n"
   ]
  },
  {
   "cell_type": "code",
   "execution_count": null,
   "id": "c335c507",
   "metadata": {},
   "outputs": [],
   "source": [
    "apple_prices.to_csv(path + \"/apple_prices.csv\")\n",
    "apple_prices_three_months.to_csv(path + \"/apple_prices_three_months.csv\")\n",
    "apple_return_daily.to_csv(path + \"/apple_returns_daily.csv\")\n",
    "apple_returns_monthly.to_csv(path + \"/apple_returns_monthly.csv\")\n",
    "microsoft_prices.to_csv(path + \"/microsoft_prices.csv\")\n",
    "microsoft_return_daily.to_csv(path + \"/microsoft_reurns__daily.csv\")\n",
    "microsoft_returns_monthly.to_csv(path + \"/microsoft_returns_monthly.csv\")\n",
    "inflation_data.to_csv(path + \"/inflation_data.csv\")\n",
    "inflation_data_weekly.to_csv(path + \"/inflation_data_weekly.csv\")\n",
    "inflation_data_quarterly.to_csv(path + \"/inflation_data_quarterly.csv\")\n",
    "inflation_changes_monthly.to_csv(path + \"/inflation_changes_monthly.csv\")\n",
    "gdp_data.to_csv(path + \"/gdp_data.csv\")\n",
    "gdp_data_standardized.to_csv(path + \"/gdp_data_standardized.csv\")"
   ]
  },
  {
   "cell_type": "code",
   "execution_count": null,
   "id": "5e2c0247",
   "metadata": {},
   "outputs": [],
   "source": []
  }
 ],
 "metadata": {
  "kernelspec": {
   "display_name": "ai-trading-strategies-1EhJFiqn-py3.12",
   "language": "python",
   "name": "python3"
  },
  "language_info": {
   "codemirror_mode": {
    "name": "ipython",
    "version": 3
   },
   "file_extension": ".py",
   "mimetype": "text/x-python",
   "name": "python",
   "nbconvert_exporter": "python",
   "pygments_lexer": "ipython3",
   "version": "3.12.0"
  }
 },
 "nbformat": 4,
 "nbformat_minor": 5
}
